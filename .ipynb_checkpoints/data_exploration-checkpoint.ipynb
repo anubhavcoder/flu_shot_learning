{
 "cells": [
  {
   "cell_type": "code",
   "execution_count": 142,
   "metadata": {},
   "outputs": [],
   "source": [
    "# import packages\n",
    "import numpy as np\n",
    "import pandas as pd\n",
    "import sklearn\n",
    "from sklearn.linear_model import LogisticRegression\n",
    "from sklearn.impute import SimpleImputer\n",
    "import scipy\n",
    "import matplotlib.pyplot as plt\n",
    "import plotly\n",
    "import os\n",
    "import seaborn as sns"
   ]
  },
  {
   "cell_type": "code",
   "execution_count": 5,
   "metadata": {},
   "outputs": [],
   "source": [
    "# change viewing options\n",
    "pd.set_option('display.max_columns', None)  \n",
    "pd.set_option('max_colwidth', -1)"
   ]
  },
  {
   "cell_type": "markdown",
   "metadata": {},
   "source": [
    "### Problem: \n",
    "\n",
    "Link: https://www.drivendata.org/competitions/66/flu-shot-learning/\n",
    "\n",
    "**(See bottom for preliminary findings from EDA)**\n",
    "\n",
    "In this competition, our goal is to try and predict who is likely to get a vaccination. The data comes from the National 2009 H1N1 survey. We're asked to predict whether people (1) get the seasonal vaccine or (2) get the H1N1 vaccine. \n",
    "\n",
    "Here is a list of all the covariates and their definitions:\n",
    "\n",
    "1. h1n1_concern - Level of concern about the H1N1 flu.\n",
    "   - 0 = Not at all concerned; 1 = Not very concerned; 2 = Somewhat concerned; 3 = Very concerned.\n",
    "2. h1n1_knowledge - Level of knowledge about H1N1 flu.\n",
    "   - 0 = No knowledge; 1 = A little knowledge; 2 = A lot of knowledge.\n",
    "3. behavioral_antiviral_meds - Has taken antiviral medications. (binary)\n",
    "4. behavioral_avoidance - Has avoided close contact with others with flu-like symptoms. (binary)\n",
    "5. behavioral_face_mask - Has bought a face mask. (binary)\n",
    "6. behavioral_wash_hands - Has frequently washed hands or used hand sanitizer. (binary)\n",
    "7. behavioral_large_gatherings - Has reduced time at large gatherings. (binary)\n",
    "8. behavioral_outside_home - Has reduced contact with people outside of own household. (binary)\n",
    "9. behavioral_touch_face - Has avoided touching eyes, nose, or mouth. (binary)\n",
    "10. doctor_recc_h1n1 - H1N1 flu vaccine was recommended by doctor. (binary)\n",
    "11. doctor_recc_seasonal - Seasonal flu vaccine was recommended by doctor. (binary)\n",
    "12. chronic_med_condition - Has any of the following chronic medical conditions: asthma or an other lung condition, diabetes, a heart condition, a kidney condition, sickle cell anemia or other anemia, a neurological or neuromuscular condition, a liver condition, or a weakened immune system caused by a chronic illness or by medicines taken for a chronic illness. (binary)\n",
    "13. child_under_6_months - Has regular close contact with a child under the age of six months. (binary)\n",
    "14. health_worker - Is a healthcare worker. (binary)\n",
    "15. health_insurance - Has health insurance. (binary)\n",
    "16. opinion_h1n1_vacc_effective - Respondent's opinion about H1N1 vaccine effectiveness.\n",
    "    - 1 = Not at all effective; 2 = Not very effective; 3 = Don't know; 4 = Somewhat effective; 5 = Very effective.\n",
    "17. opinion_h1n1_risk - Respondent's opinion about risk of getting sick with H1N1 flu without vaccine.\n",
    "    - 1 = Very Low; 2 = Somewhat low; 3 = Don't know; 4 = Somewhat high; 5 = Very high.\n",
    "18. opinion_h1n1_sick_from_vacc - Respondent's worry of getting sick from taking H1N1 vaccine.\n",
    "    - 1 = Not at all worried; 2 = Not very worried; 3 = Don't know; 4 = Somewhat worried; 5 = Very worried.\n",
    "19. opinion_seas_vacc_effective - Respondent's opinion about seasonal flu vaccine effectiveness.\n",
    "    - 1 = Not at all effective; 2 = Not very effective; 3 = Don't know; 4 = Somewhat effective; 5 = Very effective.\n",
    "20. opinion_seas_risk - Respondent's opinion about risk of getting sick with seasonal flu without vaccine.\n",
    "    - 1 = Very Low; 2 = Somewhat low; 3 = Don't know; 4 = Somewhat high; 5 = Very high.\n",
    "21. opinion_seas_sick_from_vacc - Respondent's worry of getting sick from taking seasonal flu vaccine.\n",
    "    - 1 = Not at all worried; 2 = Not very worried; 3 = Don't know; 4 = Somewhat worried; 5 = Very worried.\n",
    "22. age_group - Age group of respondent.\n",
    "23. education - Self-reported education level.\n",
    "24. race - Race of respondent.\n",
    "25. sex - Sex of respondent.\n",
    "26. income_poverty - Household annual income of respondent with respect to 2008 Census poverty thresholds.\n",
    "27. marital_status - Marital status of respondent.\n",
    "28. rent_or_own - Housing situation of respondent.\n",
    "29. employment_status - Employment status of respondent.\n",
    "30. hhs_geo_region - Respondent's residence using a 10-region geographic classification defined by the U.S. Dept. of Health and Human Services. Values are represented as short random character strings.\n",
    "31. census_msa - Respondent's residence within metropolitan statistical areas (MSA) as defined by the U.S. Census.\n",
    "32. household_adults - Number of other adults in household, top-coded to 3.\n",
    "33. household_children - Number of children in household, top-coded to 3.\n",
    "34. employment_industry - Type of industry respondent is employed in. Values are represented as short random character strings.\n",
    "35. employment_occupation - Type of occupation of respondent. Values are represented as short random character strings."
   ]
  },
  {
   "cell_type": "markdown",
   "metadata": {},
   "source": [
    "### Step 1: Import data"
   ]
  },
  {
   "cell_type": "code",
   "execution_count": 3,
   "metadata": {},
   "outputs": [
    {
     "data": {
      "text/plain": [
       "['data_exploration.ipynb',\n",
       " 'training_set_labels.csv',\n",
       " 'submission_format.csv',\n",
       " 'README.md',\n",
       " 'training_set_features.csv',\n",
       " '.ipynb_checkpoints',\n",
       " '.git',\n",
       " 'test_set_features.csv']"
      ]
     },
     "execution_count": 3,
     "metadata": {},
     "output_type": "execute_result"
    }
   ],
   "source": [
    "# check our data\n",
    "os.listdir()"
   ]
  },
  {
   "cell_type": "code",
   "execution_count": 6,
   "metadata": {},
   "outputs": [],
   "source": [
    "# read in the data\n",
    "train = pd.read_csv(\"training_set_features.csv\")\n",
    "train_labels = pd.read_csv(\"training_set_labels.csv\")"
   ]
  },
  {
   "cell_type": "markdown",
   "metadata": {},
   "source": [
    "### Step 2: Analyze data"
   ]
  },
  {
   "cell_type": "markdown",
   "metadata": {},
   "source": [
    "Before analyzing the data, I did some background research on the H1N1 and seasonal flu viruses, as well as the associated vaccination responses to each. Based off information from both news outlets and scientific literature, I proposed a few questions to test during data exploration:"
   ]
  },
  {
   "cell_type": "markdown",
   "metadata": {},
   "source": [
    "#### Question 0: How many people get the H1N1 vaccine? Flu vaccine?\n",
    "\n",
    "(This question doesn't come from outside sources, but it would be interesting to know the proportion of H1N1 vaccine and flu vaccine adoption, as a whole, prior to further analysis)"
   ]
  },
  {
   "cell_type": "code",
   "execution_count": 121,
   "metadata": {},
   "outputs": [
    {
     "data": {
      "image/png": "[encoded data removed]",
      "text/plain": [
       "<Figure size 360x360 with 1 Axes>"
      ]
     },
     "metadata": {},
     "output_type": "display_data"
    }
   ],
   "source": [
    "# for the h1n1 vaccine\n",
    "train_labels['h1n1_vaccine'].value_counts().plot.pie(y=\"mass\", figsize = (5,5))\n",
    "plt.title(\"Less than 1/4 of people received the H1N1 flu vaccine\")\n",
    "plt.show()"
   ]
  },
  {
   "cell_type": "code",
   "execution_count": 120,
   "metadata": {},
   "outputs": [
    {
     "data": {
      "image/png": "[encoded data removed]",
      "text/plain": [
       "<Figure size 360x360 with 1 Axes>"
      ]
     },
     "metadata": {},
     "output_type": "display_data"
    }
   ],
   "source": [
    "# for the flu vaccine\n",
    "train_labels['seasonal_vaccine'].value_counts().plot.pie(y=\"mass\", figsize = (5,5))\n",
    "plt.title(\"About half of people received the seasonal flu vaccine\")\n",
    "plt.show()"
   ]
  },
  {
   "cell_type": "markdown",
   "metadata": {},
   "source": [
    "We already see a class imbalance in the adoption of the H1N1 vaccine (less than 1/4 of people chose to receive the H1N1 vaccine), which could be important to keep in mind during future analysis. "
   ]
  },
  {
   "cell_type": "markdown",
   "metadata": {},
   "source": [
    "As a follow-up, is there a correlation between adoption of the H1N1 vaccine and the seasonal flu vaccine?"
   ]
  },
  {
   "cell_type": "code",
   "execution_count": 122,
   "metadata": {},
   "outputs": [
    {
     "data": {
      "text/plain": [
       "0.37714265306144495"
      ]
     },
     "execution_count": 122,
     "metadata": {},
     "output_type": "execute_result"
    }
   ],
   "source": [
    "train_labels['h1n1_vaccine'].corr(train_labels['seasonal_vaccine'], method = 'pearson')"
   ]
  },
  {
   "cell_type": "markdown",
   "metadata": {},
   "source": [
    "We see a mild correlation (r=0.377), which makes sense. If you get one vaccine, you likely will get the other vaccine. How did a person getting or not getting one vaccine influence whether they got the other vaccine? Let's look at this using a table:"
   ]
  },
  {
   "cell_type": "code",
   "execution_count": 124,
   "metadata": {},
   "outputs": [
    {
     "data": {
      "text/html": [
       "<div>\n",
       "<style scoped>\n",
       "    .dataframe tbody tr th:only-of-type {\n",
       "        vertical-align: middle;\n",
       "    }\n",
       "\n",
       "    .dataframe tbody tr th {\n",
       "        vertical-align: top;\n",
       "    }\n",
       "\n",
       "    .dataframe thead th {\n",
       "        text-align: right;\n",
       "    }\n",
       "</style>\n",
       "<table border=\"1\" class=\"dataframe\">\n",
       "  <thead>\n",
       "    <tr style=\"text-align: right;\">\n",
       "      <th>seasonal_vaccine</th>\n",
       "      <th>0</th>\n",
       "      <th>1</th>\n",
       "    </tr>\n",
       "    <tr>\n",
       "      <th>h1n1_vaccine</th>\n",
       "      <th></th>\n",
       "      <th></th>\n",
       "    </tr>\n",
       "  </thead>\n",
       "  <tbody>\n",
       "    <tr>\n",
       "      <th>0</th>\n",
       "      <td>13295</td>\n",
       "      <td>7738</td>\n",
       "    </tr>\n",
       "    <tr>\n",
       "      <th>1</th>\n",
       "      <td>977</td>\n",
       "      <td>4697</td>\n",
       "    </tr>\n",
       "  </tbody>\n",
       "</table>\n",
       "</div>"
      ],
      "text/plain": [
       "seasonal_vaccine      0     1\n",
       "h1n1_vaccine                 \n",
       "0                 13295  7738\n",
       "1                 977    4697"
      ]
     },
     "execution_count": 124,
     "metadata": {},
     "output_type": "execute_result"
    }
   ],
   "source": [
    "tab = pd.crosstab(train_labels['h1n1_vaccine'], train_labels['seasonal_vaccine'])\n",
    "tab"
   ]
  },
  {
   "cell_type": "markdown",
   "metadata": {},
   "source": [
    "Let's get a better idea of what this table is telling us:"
   ]
  },
  {
   "cell_type": "code",
   "execution_count": 129,
   "metadata": {},
   "outputs": [
    {
     "name": "stdout",
     "output_type": "stream",
     "text": [
      "The percent of people who got both vaccines: 17.587%\n",
      "The percent of people who got neither vaccine: 49.781%\n",
      "The percent of people who got the H1N1 vaccine but not the seasonal flu vaccine: 3.658%\n",
      "The percent of people who got the seasonal flu vaccine but not the H1N1 vaccine: 28.974%\n"
     ]
    }
   ],
   "source": [
    "print(f\"The percent of people who got both vaccines: {round(tab.iloc[1, 1] * 100/ sum(tab.sum()), 3)}%\")\n",
    "print(f\"The percent of people who got neither vaccine: {round(tab.iloc[0, 0] * 100/ sum(tab.sum()), 3)}%\")\n",
    "print(f\"The percent of people who got the H1N1 vaccine but not the seasonal flu vaccine: {round(tab.iloc[1, 0] * 100/ sum(tab.sum()), 3)}%\")\n",
    "print(f\"The percent of people who got the seasonal flu vaccine but not the H1N1 vaccine: {round(tab.iloc[0, 1] * 100/ sum(tab.sum()), 3)}%\")"
   ]
  },
  {
   "cell_type": "markdown",
   "metadata": {},
   "source": [
    "We see that half of respondents got neither vaccine, while only 18% of respondents got both vaccines. A significant proportion, ~29% of respondents, got the seasonal flu vaccine but not the H1N1 vaccine. It might be worth subsetting the dataset by (1) people who got both vaccines, (2) people who got neither vaccine, and (3) people who got the seasonal flu vaccine but not the H1N1 vaccine, and see if we notice any trends."
   ]
  },
  {
   "cell_type": "markdown",
   "metadata": {},
   "source": [
    "#### Question 1:  Are people with children more likely to get flu shots? "
   ]
  },
  {
   "cell_type": "markdown",
   "metadata": {},
   "source": [
    "Let's analyze this for the H1N1 vaccine first:"
   ]
  },
  {
   "cell_type": "code",
   "execution_count": 78,
   "metadata": {},
   "outputs": [
    {
     "data": {
      "text/html": [
       "<div>\n",
       "<style scoped>\n",
       "    .dataframe tbody tr th:only-of-type {\n",
       "        vertical-align: middle;\n",
       "    }\n",
       "\n",
       "    .dataframe tbody tr th {\n",
       "        vertical-align: top;\n",
       "    }\n",
       "\n",
       "    .dataframe thead th {\n",
       "        text-align: right;\n",
       "    }\n",
       "</style>\n",
       "<table border=\"1\" class=\"dataframe\">\n",
       "  <thead>\n",
       "    <tr style=\"text-align: right;\">\n",
       "      <th>h1n1_vaccine</th>\n",
       "      <th>0</th>\n",
       "      <th>1</th>\n",
       "    </tr>\n",
       "    <tr>\n",
       "      <th>household_children</th>\n",
       "      <th></th>\n",
       "      <th></th>\n",
       "    </tr>\n",
       "  </thead>\n",
       "  <tbody>\n",
       "    <tr>\n",
       "      <th>0.0</th>\n",
       "      <td>14689</td>\n",
       "      <td>3983</td>\n",
       "    </tr>\n",
       "    <tr>\n",
       "      <th>1.0</th>\n",
       "      <td>2501</td>\n",
       "      <td>674</td>\n",
       "    </tr>\n",
       "    <tr>\n",
       "      <th>2.0</th>\n",
       "      <td>2235</td>\n",
       "      <td>629</td>\n",
       "    </tr>\n",
       "    <tr>\n",
       "      <th>3.0</th>\n",
       "      <td>1398</td>\n",
       "      <td>349</td>\n",
       "    </tr>\n",
       "  </tbody>\n",
       "</table>\n",
       "</div>"
      ],
      "text/plain": [
       "h1n1_vaccine            0     1\n",
       "household_children             \n",
       "0.0                 14689  3983\n",
       "1.0                 2501   674 \n",
       "2.0                 2235   629 \n",
       "3.0                 1398   349 "
      ]
     },
     "execution_count": 78,
     "metadata": {},
     "output_type": "execute_result"
    }
   ],
   "source": [
    "# raw counts\n",
    "pd.crosstab(train['household_children'],  train_labels['h1n1_vaccine'])"
   ]
  },
  {
   "cell_type": "code",
   "execution_count": 81,
   "metadata": {},
   "outputs": [
    {
     "data": {
      "text/html": [
       "<div>\n",
       "<style scoped>\n",
       "    .dataframe tbody tr th:only-of-type {\n",
       "        vertical-align: middle;\n",
       "    }\n",
       "\n",
       "    .dataframe tbody tr th {\n",
       "        vertical-align: top;\n",
       "    }\n",
       "\n",
       "    .dataframe thead th {\n",
       "        text-align: right;\n",
       "    }\n",
       "</style>\n",
       "<table border=\"1\" class=\"dataframe\">\n",
       "  <thead>\n",
       "    <tr style=\"text-align: right;\">\n",
       "      <th>h1n1_vaccine</th>\n",
       "      <th>0</th>\n",
       "      <th>1</th>\n",
       "      <th>All</th>\n",
       "    </tr>\n",
       "    <tr>\n",
       "      <th>household_children</th>\n",
       "      <th></th>\n",
       "      <th></th>\n",
       "      <th></th>\n",
       "    </tr>\n",
       "  </thead>\n",
       "  <tbody>\n",
       "    <tr>\n",
       "      <th>0.0</th>\n",
       "      <td>0.555182</td>\n",
       "      <td>0.150540</td>\n",
       "      <td>0.705722</td>\n",
       "    </tr>\n",
       "    <tr>\n",
       "      <th>1.0</th>\n",
       "      <td>0.094527</td>\n",
       "      <td>0.025474</td>\n",
       "      <td>0.120002</td>\n",
       "    </tr>\n",
       "    <tr>\n",
       "      <th>2.0</th>\n",
       "      <td>0.084474</td>\n",
       "      <td>0.023774</td>\n",
       "      <td>0.108247</td>\n",
       "    </tr>\n",
       "    <tr>\n",
       "      <th>3.0</th>\n",
       "      <td>0.052838</td>\n",
       "      <td>0.013191</td>\n",
       "      <td>0.066029</td>\n",
       "    </tr>\n",
       "    <tr>\n",
       "      <th>All</th>\n",
       "      <td>0.787021</td>\n",
       "      <td>0.212979</td>\n",
       "      <td>1.000000</td>\n",
       "    </tr>\n",
       "  </tbody>\n",
       "</table>\n",
       "</div>"
      ],
      "text/plain": [
       "h1n1_vaccine               0         1       All\n",
       "household_children                              \n",
       "0.0                 0.555182  0.150540  0.705722\n",
       "1.0                 0.094527  0.025474  0.120002\n",
       "2.0                 0.084474  0.023774  0.108247\n",
       "3.0                 0.052838  0.013191  0.066029\n",
       "All                 0.787021  0.212979  1.000000"
      ]
     },
     "execution_count": 81,
     "metadata": {},
     "output_type": "execute_result"
    }
   ],
   "source": [
    "# normalized version\n",
    "tab = pd.crosstab(train['household_children'],  train_labels['h1n1_vaccine'], margins = True, normalize = True)\n",
    "tab"
   ]
  },
  {
   "cell_type": "code",
   "execution_count": 82,
   "metadata": {},
   "outputs": [],
   "source": [
    "tab['prop_received_medicine'] = tab[1] / (tab[0]  + tab[1]) "
   ]
  },
  {
   "cell_type": "code",
   "execution_count": 52,
   "metadata": {},
   "outputs": [],
   "source": [
    "# get tabulation of each\n",
    "tab = pd.crosstab(train['h1n1_concern'], train_labels['h1n1_vaccine'])\n",
    "tab_normalized = pd.crosstab(train['h1n1_concern'], train_labels['h1n1_vaccine'], margins = True, normalize = True)"
   ]
  },
  {
   "cell_type": "code",
   "execution_count": 57,
   "metadata": {},
   "outputs": [],
   "source": [
    "# get proportion of people receiving h1n1 vaccine, by row\n",
    "tab['prop_received_medicine'] = tab[1] / (tab[0]  + tab[1]) "
   ]
  },
  {
   "cell_type": "code",
   "execution_count": 84,
   "metadata": {},
   "outputs": [
    {
     "data": {
      "image/png": "[encoded data removed]",
      "text/plain": [
       "<Figure size 432x288 with 1 Axes>"
      ]
     },
     "metadata": {
      "needs_background": "light"
     },
     "output_type": "display_data"
    }
   ],
   "source": [
    "tab[[0, 1, 'prop_received_medicine']].plot(kind = 'bar')\n",
    "plt.show()"
   ]
  },
  {
   "cell_type": "markdown",
   "metadata": {},
   "source": [
    "Comment: It seems like the relative proportion of people who received medicine is consistent across the # of children in a household"
   ]
  },
  {
   "cell_type": "markdown",
   "metadata": {},
   "source": [
    "Now, let's analyze this in the case of the flu virus"
   ]
  },
  {
   "cell_type": "code",
   "execution_count": 86,
   "metadata": {},
   "outputs": [
    {
     "data": {
      "text/html": [
       "<div>\n",
       "<style scoped>\n",
       "    .dataframe tbody tr th:only-of-type {\n",
       "        vertical-align: middle;\n",
       "    }\n",
       "\n",
       "    .dataframe tbody tr th {\n",
       "        vertical-align: top;\n",
       "    }\n",
       "\n",
       "    .dataframe thead th {\n",
       "        text-align: right;\n",
       "    }\n",
       "</style>\n",
       "<table border=\"1\" class=\"dataframe\">\n",
       "  <thead>\n",
       "    <tr style=\"text-align: right;\">\n",
       "      <th>seasonal_vaccine</th>\n",
       "      <th>0</th>\n",
       "      <th>1</th>\n",
       "    </tr>\n",
       "    <tr>\n",
       "      <th>household_children</th>\n",
       "      <th></th>\n",
       "      <th></th>\n",
       "    </tr>\n",
       "  </thead>\n",
       "  <tbody>\n",
       "    <tr>\n",
       "      <th>0.0</th>\n",
       "      <td>9217</td>\n",
       "      <td>9455</td>\n",
       "    </tr>\n",
       "    <tr>\n",
       "      <th>1.0</th>\n",
       "      <td>1953</td>\n",
       "      <td>1222</td>\n",
       "    </tr>\n",
       "    <tr>\n",
       "      <th>2.0</th>\n",
       "      <td>1769</td>\n",
       "      <td>1095</td>\n",
       "    </tr>\n",
       "    <tr>\n",
       "      <th>3.0</th>\n",
       "      <td>1148</td>\n",
       "      <td>599</td>\n",
       "    </tr>\n",
       "  </tbody>\n",
       "</table>\n",
       "</div>"
      ],
      "text/plain": [
       "seasonal_vaccine       0     1\n",
       "household_children            \n",
       "0.0                 9217  9455\n",
       "1.0                 1953  1222\n",
       "2.0                 1769  1095\n",
       "3.0                 1148  599 "
      ]
     },
     "execution_count": 86,
     "metadata": {},
     "output_type": "execute_result"
    }
   ],
   "source": [
    "# raw counts\n",
    "pd.crosstab(train['household_children'],  train_labels['seasonal_vaccine'])"
   ]
  },
  {
   "cell_type": "code",
   "execution_count": 87,
   "metadata": {},
   "outputs": [
    {
     "data": {
      "text/html": [
       "<div>\n",
       "<style scoped>\n",
       "    .dataframe tbody tr th:only-of-type {\n",
       "        vertical-align: middle;\n",
       "    }\n",
       "\n",
       "    .dataframe tbody tr th {\n",
       "        vertical-align: top;\n",
       "    }\n",
       "\n",
       "    .dataframe thead th {\n",
       "        text-align: right;\n",
       "    }\n",
       "</style>\n",
       "<table border=\"1\" class=\"dataframe\">\n",
       "  <thead>\n",
       "    <tr style=\"text-align: right;\">\n",
       "      <th>seasonal_vaccine</th>\n",
       "      <th>0</th>\n",
       "      <th>1</th>\n",
       "      <th>All</th>\n",
       "    </tr>\n",
       "    <tr>\n",
       "      <th>household_children</th>\n",
       "      <th></th>\n",
       "      <th></th>\n",
       "      <th></th>\n",
       "    </tr>\n",
       "  </thead>\n",
       "  <tbody>\n",
       "    <tr>\n",
       "      <th>0.0</th>\n",
       "      <td>0.348363</td>\n",
       "      <td>0.357359</td>\n",
       "      <td>0.705722</td>\n",
       "    </tr>\n",
       "    <tr>\n",
       "      <th>1.0</th>\n",
       "      <td>0.073815</td>\n",
       "      <td>0.046186</td>\n",
       "      <td>0.120002</td>\n",
       "    </tr>\n",
       "    <tr>\n",
       "      <th>2.0</th>\n",
       "      <td>0.066861</td>\n",
       "      <td>0.041386</td>\n",
       "      <td>0.108247</td>\n",
       "    </tr>\n",
       "    <tr>\n",
       "      <th>3.0</th>\n",
       "      <td>0.043390</td>\n",
       "      <td>0.022640</td>\n",
       "      <td>0.066029</td>\n",
       "    </tr>\n",
       "    <tr>\n",
       "      <th>All</th>\n",
       "      <td>0.532429</td>\n",
       "      <td>0.467571</td>\n",
       "      <td>1.000000</td>\n",
       "    </tr>\n",
       "  </tbody>\n",
       "</table>\n",
       "</div>"
      ],
      "text/plain": [
       "seasonal_vaccine           0         1       All\n",
       "household_children                              \n",
       "0.0                 0.348363  0.357359  0.705722\n",
       "1.0                 0.073815  0.046186  0.120002\n",
       "2.0                 0.066861  0.041386  0.108247\n",
       "3.0                 0.043390  0.022640  0.066029\n",
       "All                 0.532429  0.467571  1.000000"
      ]
     },
     "execution_count": 87,
     "metadata": {},
     "output_type": "execute_result"
    }
   ],
   "source": [
    "# normalized version\n",
    "tab = pd.crosstab(train['household_children'],  train_labels['seasonal_vaccine'], margins = True, normalize = True)\n",
    "tab"
   ]
  },
  {
   "cell_type": "code",
   "execution_count": 88,
   "metadata": {},
   "outputs": [],
   "source": [
    "# get proportion of people receiving h1n1 vaccine, by row\n",
    "tab['prop_received_medicine'] = tab[1] / (tab[0]  + tab[1]) "
   ]
  },
  {
   "cell_type": "code",
   "execution_count": 89,
   "metadata": {},
   "outputs": [
    {
     "data": {
      "image/png": "[encoded data removed]",
      "text/plain": [
       "<Figure size 432x288 with 1 Axes>"
      ]
     },
     "metadata": {
      "needs_background": "light"
     },
     "output_type": "display_data"
    }
   ],
   "source": [
    "tab[[0, 1, 'prop_received_medicine']].plot(kind = 'bar')\n",
    "plt.show()"
   ]
  },
  {
   "cell_type": "markdown",
   "metadata": {},
   "source": [
    "Comment: It seems like people were much more likely to get the seasonal flu vaccine when they didn't have children in the household"
   ]
  },
  {
   "cell_type": "markdown",
   "metadata": {},
   "source": [
    "General comment: It seems weird that the # of children in the household doesn't affect one's likelihood of getting a H1N1 vaccine, but that those with no children in the household are more likely to get a seasonal vaccine. This seems to go against past news and research (which suggests that people are more likely to get the vaccine if there's people at home who are at risk, such as children and the elderly). I wonder if the findings here are moderated by some other variable. "
   ]
  },
  {
   "cell_type": "markdown",
   "metadata": {},
   "source": [
    "#### Question 2: How do vaccination rates vary by age?\n",
    "\n",
    "Past literature suggests that the elderly are more likely to get vaccinations than any other age groups, and that as one gets older, they become more likely to get vaccination. \n",
    "\n",
    "This effect is also likely moderated by the presence of pre-existing conditions (and perhaps other explanatory variables), so it would be good to account for this as well."
   ]
  },
  {
   "cell_type": "markdown",
   "metadata": {},
   "source": [
    "Let's first analyze this for the H1N1 vaccine first:"
   ]
  },
  {
   "cell_type": "code",
   "execution_count": 102,
   "metadata": {},
   "outputs": [
    {
     "data": {
      "text/html": [
       "<div>\n",
       "<style scoped>\n",
       "    .dataframe tbody tr th:only-of-type {\n",
       "        vertical-align: middle;\n",
       "    }\n",
       "\n",
       "    .dataframe tbody tr th {\n",
       "        vertical-align: top;\n",
       "    }\n",
       "\n",
       "    .dataframe thead th {\n",
       "        text-align: right;\n",
       "    }\n",
       "</style>\n",
       "<table border=\"1\" class=\"dataframe\">\n",
       "  <thead>\n",
       "    <tr style=\"text-align: right;\">\n",
       "      <th>h1n1_vaccine</th>\n",
       "      <th>0</th>\n",
       "      <th>1</th>\n",
       "    </tr>\n",
       "    <tr>\n",
       "      <th>age_group</th>\n",
       "      <th></th>\n",
       "      <th></th>\n",
       "    </tr>\n",
       "  </thead>\n",
       "  <tbody>\n",
       "    <tr>\n",
       "      <th>18 - 34 Years</th>\n",
       "      <td>4224</td>\n",
       "      <td>991</td>\n",
       "    </tr>\n",
       "    <tr>\n",
       "      <th>35 - 44 Years</th>\n",
       "      <td>3087</td>\n",
       "      <td>761</td>\n",
       "    </tr>\n",
       "    <tr>\n",
       "      <th>45 - 54 Years</th>\n",
       "      <td>4218</td>\n",
       "      <td>1020</td>\n",
       "    </tr>\n",
       "    <tr>\n",
       "      <th>55 - 64 Years</th>\n",
       "      <td>4212</td>\n",
       "      <td>1351</td>\n",
       "    </tr>\n",
       "    <tr>\n",
       "      <th>65+ Years</th>\n",
       "      <td>5292</td>\n",
       "      <td>1551</td>\n",
       "    </tr>\n",
       "  </tbody>\n",
       "</table>\n",
       "</div>"
      ],
      "text/plain": [
       "h1n1_vaccine      0     1\n",
       "age_group                \n",
       "18 - 34 Years  4224  991 \n",
       "35 - 44 Years  3087  761 \n",
       "45 - 54 Years  4218  1020\n",
       "55 - 64 Years  4212  1351\n",
       "65+ Years      5292  1551"
      ]
     },
     "execution_count": 102,
     "metadata": {},
     "output_type": "execute_result"
    }
   ],
   "source": [
    "# raw counts\n",
    "pd.crosstab(train['age_group'],  train_labels['h1n1_vaccine'])"
   ]
  },
  {
   "cell_type": "code",
   "execution_count": 103,
   "metadata": {},
   "outputs": [
    {
     "data": {
      "text/html": [
       "<div>\n",
       "<style scoped>\n",
       "    .dataframe tbody tr th:only-of-type {\n",
       "        vertical-align: middle;\n",
       "    }\n",
       "\n",
       "    .dataframe tbody tr th {\n",
       "        vertical-align: top;\n",
       "    }\n",
       "\n",
       "    .dataframe thead th {\n",
       "        text-align: right;\n",
       "    }\n",
       "</style>\n",
       "<table border=\"1\" class=\"dataframe\">\n",
       "  <thead>\n",
       "    <tr style=\"text-align: right;\">\n",
       "      <th>h1n1_vaccine</th>\n",
       "      <th>0</th>\n",
       "      <th>1</th>\n",
       "      <th>All</th>\n",
       "    </tr>\n",
       "    <tr>\n",
       "      <th>age_group</th>\n",
       "      <th></th>\n",
       "      <th></th>\n",
       "      <th></th>\n",
       "    </tr>\n",
       "  </thead>\n",
       "  <tbody>\n",
       "    <tr>\n",
       "      <th>18 - 34 Years</th>\n",
       "      <td>0.158161</td>\n",
       "      <td>0.037106</td>\n",
       "      <td>0.195267</td>\n",
       "    </tr>\n",
       "    <tr>\n",
       "      <th>35 - 44 Years</th>\n",
       "      <td>0.115588</td>\n",
       "      <td>0.028494</td>\n",
       "      <td>0.144082</td>\n",
       "    </tr>\n",
       "    <tr>\n",
       "      <th>45 - 54 Years</th>\n",
       "      <td>0.157936</td>\n",
       "      <td>0.038192</td>\n",
       "      <td>0.196128</td>\n",
       "    </tr>\n",
       "    <tr>\n",
       "      <th>55 - 64 Years</th>\n",
       "      <td>0.157711</td>\n",
       "      <td>0.050586</td>\n",
       "      <td>0.208297</td>\n",
       "    </tr>\n",
       "    <tr>\n",
       "      <th>65+ Years</th>\n",
       "      <td>0.198150</td>\n",
       "      <td>0.058075</td>\n",
       "      <td>0.256225</td>\n",
       "    </tr>\n",
       "    <tr>\n",
       "      <th>All</th>\n",
       "      <td>0.787546</td>\n",
       "      <td>0.212454</td>\n",
       "      <td>1.000000</td>\n",
       "    </tr>\n",
       "  </tbody>\n",
       "</table>\n",
       "</div>"
      ],
      "text/plain": [
       "h1n1_vaccine          0         1       All\n",
       "age_group                                  \n",
       "18 - 34 Years  0.158161  0.037106  0.195267\n",
       "35 - 44 Years  0.115588  0.028494  0.144082\n",
       "45 - 54 Years  0.157936  0.038192  0.196128\n",
       "55 - 64 Years  0.157711  0.050586  0.208297\n",
       "65+ Years      0.198150  0.058075  0.256225\n",
       "All            0.787546  0.212454  1.000000"
      ]
     },
     "execution_count": 103,
     "metadata": {},
     "output_type": "execute_result"
    }
   ],
   "source": [
    "# normalized version\n",
    "tab = pd.crosstab(train['age_group'],  train_labels['h1n1_vaccine'], margins = True, normalize = True)\n",
    "tab"
   ]
  },
  {
   "cell_type": "code",
   "execution_count": 104,
   "metadata": {},
   "outputs": [],
   "source": [
    "# get proportion of people receiving h1n1 vaccine, by row\n",
    "tab['prop_received_medicine'] = tab[1] / (tab[0]  + tab[1]) "
   ]
  },
  {
   "cell_type": "code",
   "execution_count": 105,
   "metadata": {},
   "outputs": [
    {
     "data": {
      "image/png": "[encoded data removed]",
      "text/plain": [
       "<Figure size 432x288 with 1 Axes>"
      ]
     },
     "metadata": {
      "needs_background": "light"
     },
     "output_type": "display_data"
    }
   ],
   "source": [
    "tab[[0, 1, 'prop_received_medicine']].plot(kind = 'bar')\n",
    "plt.show()"
   ]
  },
  {
   "cell_type": "markdown",
   "metadata": {},
   "source": [
    "For the H1N1 vaccine, it doesn't seem like age affects how likely a person will get the vaccine."
   ]
  },
  {
   "cell_type": "markdown",
   "metadata": {},
   "source": [
    "Now let's analyze this in the case of the flu virus"
   ]
  },
  {
   "cell_type": "code",
   "execution_count": 106,
   "metadata": {},
   "outputs": [
    {
     "data": {
      "text/html": [
       "<div>\n",
       "<style scoped>\n",
       "    .dataframe tbody tr th:only-of-type {\n",
       "        vertical-align: middle;\n",
       "    }\n",
       "\n",
       "    .dataframe tbody tr th {\n",
       "        vertical-align: top;\n",
       "    }\n",
       "\n",
       "    .dataframe thead th {\n",
       "        text-align: right;\n",
       "    }\n",
       "</style>\n",
       "<table border=\"1\" class=\"dataframe\">\n",
       "  <thead>\n",
       "    <tr style=\"text-align: right;\">\n",
       "      <th>seasonal_vaccine</th>\n",
       "      <th>0</th>\n",
       "      <th>1</th>\n",
       "    </tr>\n",
       "    <tr>\n",
       "      <th>age_group</th>\n",
       "      <th></th>\n",
       "      <th></th>\n",
       "    </tr>\n",
       "  </thead>\n",
       "  <tbody>\n",
       "    <tr>\n",
       "      <th>18 - 34 Years</th>\n",
       "      <td>3731</td>\n",
       "      <td>1484</td>\n",
       "    </tr>\n",
       "    <tr>\n",
       "      <th>35 - 44 Years</th>\n",
       "      <td>2453</td>\n",
       "      <td>1395</td>\n",
       "    </tr>\n",
       "    <tr>\n",
       "      <th>45 - 54 Years</th>\n",
       "      <td>3136</td>\n",
       "      <td>2102</td>\n",
       "    </tr>\n",
       "    <tr>\n",
       "      <th>55 - 64 Years</th>\n",
       "      <td>2719</td>\n",
       "      <td>2844</td>\n",
       "    </tr>\n",
       "    <tr>\n",
       "      <th>65+ Years</th>\n",
       "      <td>2233</td>\n",
       "      <td>4610</td>\n",
       "    </tr>\n",
       "  </tbody>\n",
       "</table>\n",
       "</div>"
      ],
      "text/plain": [
       "seasonal_vaccine     0     1\n",
       "age_group                   \n",
       "18 - 34 Years     3731  1484\n",
       "35 - 44 Years     2453  1395\n",
       "45 - 54 Years     3136  2102\n",
       "55 - 64 Years     2719  2844\n",
       "65+ Years         2233  4610"
      ]
     },
     "execution_count": 106,
     "metadata": {},
     "output_type": "execute_result"
    }
   ],
   "source": [
    "# raw counts\n",
    "pd.crosstab(train['age_group'],  train_labels['seasonal_vaccine'])"
   ]
  },
  {
   "cell_type": "code",
   "execution_count": 107,
   "metadata": {},
   "outputs": [
    {
     "data": {
      "text/html": [
       "<div>\n",
       "<style scoped>\n",
       "    .dataframe tbody tr th:only-of-type {\n",
       "        vertical-align: middle;\n",
       "    }\n",
       "\n",
       "    .dataframe tbody tr th {\n",
       "        vertical-align: top;\n",
       "    }\n",
       "\n",
       "    .dataframe thead th {\n",
       "        text-align: right;\n",
       "    }\n",
       "</style>\n",
       "<table border=\"1\" class=\"dataframe\">\n",
       "  <thead>\n",
       "    <tr style=\"text-align: right;\">\n",
       "      <th>seasonal_vaccine</th>\n",
       "      <th>0</th>\n",
       "      <th>1</th>\n",
       "      <th>All</th>\n",
       "    </tr>\n",
       "    <tr>\n",
       "      <th>age_group</th>\n",
       "      <th></th>\n",
       "      <th></th>\n",
       "      <th></th>\n",
       "    </tr>\n",
       "  </thead>\n",
       "  <tbody>\n",
       "    <tr>\n",
       "      <th>18 - 34 Years</th>\n",
       "      <td>0.139701</td>\n",
       "      <td>0.055566</td>\n",
       "      <td>0.195267</td>\n",
       "    </tr>\n",
       "    <tr>\n",
       "      <th>35 - 44 Years</th>\n",
       "      <td>0.091849</td>\n",
       "      <td>0.052233</td>\n",
       "      <td>0.144082</td>\n",
       "    </tr>\n",
       "    <tr>\n",
       "      <th>45 - 54 Years</th>\n",
       "      <td>0.117422</td>\n",
       "      <td>0.078706</td>\n",
       "      <td>0.196128</td>\n",
       "    </tr>\n",
       "    <tr>\n",
       "      <th>55 - 64 Years</th>\n",
       "      <td>0.101809</td>\n",
       "      <td>0.106489</td>\n",
       "      <td>0.208297</td>\n",
       "    </tr>\n",
       "    <tr>\n",
       "      <th>65+ Years</th>\n",
       "      <td>0.083611</td>\n",
       "      <td>0.172614</td>\n",
       "      <td>0.256225</td>\n",
       "    </tr>\n",
       "    <tr>\n",
       "      <th>All</th>\n",
       "      <td>0.534392</td>\n",
       "      <td>0.465608</td>\n",
       "      <td>1.000000</td>\n",
       "    </tr>\n",
       "  </tbody>\n",
       "</table>\n",
       "</div>"
      ],
      "text/plain": [
       "seasonal_vaccine         0         1       All\n",
       "age_group                                     \n",
       "18 - 34 Years     0.139701  0.055566  0.195267\n",
       "35 - 44 Years     0.091849  0.052233  0.144082\n",
       "45 - 54 Years     0.117422  0.078706  0.196128\n",
       "55 - 64 Years     0.101809  0.106489  0.208297\n",
       "65+ Years         0.083611  0.172614  0.256225\n",
       "All               0.534392  0.465608  1.000000"
      ]
     },
     "execution_count": 107,
     "metadata": {},
     "output_type": "execute_result"
    }
   ],
   "source": [
    "# normalized version\n",
    "tab = pd.crosstab(train['age_group'],  train_labels['seasonal_vaccine'], margins = True, normalize = True)\n",
    "tab"
   ]
  },
  {
   "cell_type": "code",
   "execution_count": 108,
   "metadata": {},
   "outputs": [],
   "source": [
    "# get proportion of people receiving h1n1 vaccine, by row\n",
    "tab['prop_received_medicine'] = tab[1] / (tab[0]  + tab[1]) "
   ]
  },
  {
   "cell_type": "code",
   "execution_count": 109,
   "metadata": {},
   "outputs": [
    {
     "data": {
      "image/png": "[encoded data removed]",
      "text/plain": [
       "<Figure size 432x288 with 1 Axes>"
      ]
     },
     "metadata": {
      "needs_background": "light"
     },
     "output_type": "display_data"
    }
   ],
   "source": [
    "tab[[0, 1, 'prop_received_medicine']].plot(kind = 'bar')\n",
    "plt.show()"
   ]
  },
  {
   "cell_type": "markdown",
   "metadata": {},
   "source": [
    "For the seasonal flu vaccine, it seems like the likelihood of getting the vaccine increases as one gets older"
   ]
  },
  {
   "cell_type": "markdown",
   "metadata": {},
   "source": [
    "#### Question 3: Can we look at stacked bar charts to see how vaccination rates vary by a set of variables that past literature tells us are indicative of vaccination rates?"
   ]
  },
  {
   "cell_type": "markdown",
   "metadata": {},
   "source": [
    "Rather than looking at bar charts, can we look at stacked bar charts and see how the proportions of vaccination rates vary by each variable?\n",
    "\n",
    "Note: the following EDA is inspired by this post: https://www.drivendata.co/blog/predict-flu-vaccine-data-benchmark/"
   ]
  },
  {
   "cell_type": "code",
   "execution_count": 7,
   "metadata": {},
   "outputs": [],
   "source": [
    "# step 1: join the labels and training set\n",
    "df_joined = train.join(train_labels, on=['respondent_id'], how='inner', rsuffix=\"_\")"
   ]
  },
  {
   "cell_type": "code",
   "execution_count": 8,
   "metadata": {},
   "outputs": [
    {
     "data": {
      "text/html": [
       "<div>\n",
       "<style scoped>\n",
       "    .dataframe tbody tr th:only-of-type {\n",
       "        vertical-align: middle;\n",
       "    }\n",
       "\n",
       "    .dataframe tbody tr th {\n",
       "        vertical-align: top;\n",
       "    }\n",
       "\n",
       "    .dataframe thead th {\n",
       "        text-align: right;\n",
       "    }\n",
       "</style>\n",
       "<table border=\"1\" class=\"dataframe\">\n",
       "  <thead>\n",
       "    <tr style=\"text-align: right;\">\n",
       "      <th></th>\n",
       "      <th>respondent_id</th>\n",
       "      <th>h1n1_concern</th>\n",
       "      <th>h1n1_knowledge</th>\n",
       "      <th>behavioral_antiviral_meds</th>\n",
       "      <th>behavioral_avoidance</th>\n",
       "      <th>behavioral_face_mask</th>\n",
       "      <th>behavioral_wash_hands</th>\n",
       "      <th>behavioral_large_gatherings</th>\n",
       "      <th>behavioral_outside_home</th>\n",
       "      <th>behavioral_touch_face</th>\n",
       "      <th>doctor_recc_h1n1</th>\n",
       "      <th>doctor_recc_seasonal</th>\n",
       "      <th>chronic_med_condition</th>\n",
       "      <th>child_under_6_months</th>\n",
       "      <th>health_worker</th>\n",
       "      <th>health_insurance</th>\n",
       "      <th>opinion_h1n1_vacc_effective</th>\n",
       "      <th>opinion_h1n1_risk</th>\n",
       "      <th>opinion_h1n1_sick_from_vacc</th>\n",
       "      <th>opinion_seas_vacc_effective</th>\n",
       "      <th>opinion_seas_risk</th>\n",
       "      <th>opinion_seas_sick_from_vacc</th>\n",
       "      <th>age_group</th>\n",
       "      <th>education</th>\n",
       "      <th>race</th>\n",
       "      <th>sex</th>\n",
       "      <th>income_poverty</th>\n",
       "      <th>marital_status</th>\n",
       "      <th>rent_or_own</th>\n",
       "      <th>employment_status</th>\n",
       "      <th>hhs_geo_region</th>\n",
       "      <th>census_msa</th>\n",
       "      <th>household_adults</th>\n",
       "      <th>household_children</th>\n",
       "      <th>employment_industry</th>\n",
       "      <th>employment_occupation</th>\n",
       "      <th>respondent_id_</th>\n",
       "      <th>h1n1_vaccine</th>\n",
       "      <th>seasonal_vaccine</th>\n",
       "    </tr>\n",
       "  </thead>\n",
       "  <tbody>\n",
       "    <tr>\n",
       "      <th>0</th>\n",
       "      <td>0</td>\n",
       "      <td>1.0</td>\n",
       "      <td>0.0</td>\n",
       "      <td>0.0</td>\n",
       "      <td>0.0</td>\n",
       "      <td>0.0</td>\n",
       "      <td>0.0</td>\n",
       "      <td>0.0</td>\n",
       "      <td>1.0</td>\n",
       "      <td>1.0</td>\n",
       "      <td>0.0</td>\n",
       "      <td>0.0</td>\n",
       "      <td>0.0</td>\n",
       "      <td>0.0</td>\n",
       "      <td>0.0</td>\n",
       "      <td>1.0</td>\n",
       "      <td>3.0</td>\n",
       "      <td>1.0</td>\n",
       "      <td>2.0</td>\n",
       "      <td>2.0</td>\n",
       "      <td>1.0</td>\n",
       "      <td>2.0</td>\n",
       "      <td>55 - 64 Years</td>\n",
       "      <td>&lt; 12 Years</td>\n",
       "      <td>White</td>\n",
       "      <td>Female</td>\n",
       "      <td>Below Poverty</td>\n",
       "      <td>Not Married</td>\n",
       "      <td>Own</td>\n",
       "      <td>Not in Labor Force</td>\n",
       "      <td>oxchjgsf</td>\n",
       "      <td>Non-MSA</td>\n",
       "      <td>0.0</td>\n",
       "      <td>0.0</td>\n",
       "      <td>NaN</td>\n",
       "      <td>NaN</td>\n",
       "      <td>0</td>\n",
       "      <td>0</td>\n",
       "      <td>0</td>\n",
       "    </tr>\n",
       "    <tr>\n",
       "      <th>1</th>\n",
       "      <td>1</td>\n",
       "      <td>3.0</td>\n",
       "      <td>2.0</td>\n",
       "      <td>0.0</td>\n",
       "      <td>1.0</td>\n",
       "      <td>0.0</td>\n",
       "      <td>1.0</td>\n",
       "      <td>0.0</td>\n",
       "      <td>1.0</td>\n",
       "      <td>1.0</td>\n",
       "      <td>0.0</td>\n",
       "      <td>0.0</td>\n",
       "      <td>0.0</td>\n",
       "      <td>0.0</td>\n",
       "      <td>0.0</td>\n",
       "      <td>1.0</td>\n",
       "      <td>5.0</td>\n",
       "      <td>4.0</td>\n",
       "      <td>4.0</td>\n",
       "      <td>4.0</td>\n",
       "      <td>2.0</td>\n",
       "      <td>4.0</td>\n",
       "      <td>35 - 44 Years</td>\n",
       "      <td>12 Years</td>\n",
       "      <td>White</td>\n",
       "      <td>Male</td>\n",
       "      <td>Below Poverty</td>\n",
       "      <td>Not Married</td>\n",
       "      <td>Rent</td>\n",
       "      <td>Employed</td>\n",
       "      <td>bhuqouqj</td>\n",
       "      <td>MSA, Not Principle  City</td>\n",
       "      <td>0.0</td>\n",
       "      <td>0.0</td>\n",
       "      <td>pxcmvdjn</td>\n",
       "      <td>xgwztkwe</td>\n",
       "      <td>1</td>\n",
       "      <td>0</td>\n",
       "      <td>1</td>\n",
       "    </tr>\n",
       "    <tr>\n",
       "      <th>2</th>\n",
       "      <td>2</td>\n",
       "      <td>1.0</td>\n",
       "      <td>1.0</td>\n",
       "      <td>0.0</td>\n",
       "      <td>1.0</td>\n",
       "      <td>0.0</td>\n",
       "      <td>0.0</td>\n",
       "      <td>0.0</td>\n",
       "      <td>0.0</td>\n",
       "      <td>0.0</td>\n",
       "      <td>NaN</td>\n",
       "      <td>NaN</td>\n",
       "      <td>1.0</td>\n",
       "      <td>0.0</td>\n",
       "      <td>0.0</td>\n",
       "      <td>NaN</td>\n",
       "      <td>3.0</td>\n",
       "      <td>1.0</td>\n",
       "      <td>1.0</td>\n",
       "      <td>4.0</td>\n",
       "      <td>1.0</td>\n",
       "      <td>2.0</td>\n",
       "      <td>18 - 34 Years</td>\n",
       "      <td>College Graduate</td>\n",
       "      <td>White</td>\n",
       "      <td>Male</td>\n",
       "      <td>&lt;= $75,000, Above Poverty</td>\n",
       "      <td>Not Married</td>\n",
       "      <td>Own</td>\n",
       "      <td>Employed</td>\n",
       "      <td>qufhixun</td>\n",
       "      <td>MSA, Not Principle  City</td>\n",
       "      <td>2.0</td>\n",
       "      <td>0.0</td>\n",
       "      <td>rucpziij</td>\n",
       "      <td>xtkaffoo</td>\n",
       "      <td>2</td>\n",
       "      <td>0</td>\n",
       "      <td>0</td>\n",
       "    </tr>\n",
       "    <tr>\n",
       "      <th>3</th>\n",
       "      <td>3</td>\n",
       "      <td>1.0</td>\n",
       "      <td>1.0</td>\n",
       "      <td>0.0</td>\n",
       "      <td>1.0</td>\n",
       "      <td>0.0</td>\n",
       "      <td>1.0</td>\n",
       "      <td>1.0</td>\n",
       "      <td>0.0</td>\n",
       "      <td>0.0</td>\n",
       "      <td>0.0</td>\n",
       "      <td>1.0</td>\n",
       "      <td>1.0</td>\n",
       "      <td>0.0</td>\n",
       "      <td>0.0</td>\n",
       "      <td>NaN</td>\n",
       "      <td>3.0</td>\n",
       "      <td>3.0</td>\n",
       "      <td>5.0</td>\n",
       "      <td>5.0</td>\n",
       "      <td>4.0</td>\n",
       "      <td>1.0</td>\n",
       "      <td>65+ Years</td>\n",
       "      <td>12 Years</td>\n",
       "      <td>White</td>\n",
       "      <td>Female</td>\n",
       "      <td>Below Poverty</td>\n",
       "      <td>Not Married</td>\n",
       "      <td>Rent</td>\n",
       "      <td>Not in Labor Force</td>\n",
       "      <td>lrircsnp</td>\n",
       "      <td>MSA, Principle City</td>\n",
       "      <td>0.0</td>\n",
       "      <td>0.0</td>\n",
       "      <td>NaN</td>\n",
       "      <td>NaN</td>\n",
       "      <td>3</td>\n",
       "      <td>0</td>\n",
       "      <td>1</td>\n",
       "    </tr>\n",
       "    <tr>\n",
       "      <th>4</th>\n",
       "      <td>4</td>\n",
       "      <td>2.0</td>\n",
       "      <td>1.0</td>\n",
       "      <td>0.0</td>\n",
       "      <td>1.0</td>\n",
       "      <td>0.0</td>\n",
       "      <td>1.0</td>\n",
       "      <td>1.0</td>\n",
       "      <td>0.0</td>\n",
       "      <td>1.0</td>\n",
       "      <td>0.0</td>\n",
       "      <td>0.0</td>\n",
       "      <td>0.0</td>\n",
       "      <td>0.0</td>\n",
       "      <td>0.0</td>\n",
       "      <td>NaN</td>\n",
       "      <td>3.0</td>\n",
       "      <td>3.0</td>\n",
       "      <td>2.0</td>\n",
       "      <td>3.0</td>\n",
       "      <td>1.0</td>\n",
       "      <td>4.0</td>\n",
       "      <td>45 - 54 Years</td>\n",
       "      <td>Some College</td>\n",
       "      <td>White</td>\n",
       "      <td>Female</td>\n",
       "      <td>&lt;= $75,000, Above Poverty</td>\n",
       "      <td>Married</td>\n",
       "      <td>Own</td>\n",
       "      <td>Employed</td>\n",
       "      <td>qufhixun</td>\n",
       "      <td>MSA, Not Principle  City</td>\n",
       "      <td>1.0</td>\n",
       "      <td>0.0</td>\n",
       "      <td>wxleyezf</td>\n",
       "      <td>emcorrxb</td>\n",
       "      <td>4</td>\n",
       "      <td>0</td>\n",
       "      <td>0</td>\n",
       "    </tr>\n",
       "  </tbody>\n",
       "</table>\n",
       "</div>"
      ],
      "text/plain": [
       "   respondent_id  h1n1_concern  h1n1_knowledge  behavioral_antiviral_meds  \\\n",
       "0  0              1.0           0.0             0.0                         \n",
       "1  1              3.0           2.0             0.0                         \n",
       "2  2              1.0           1.0             0.0                         \n",
       "3  3              1.0           1.0             0.0                         \n",
       "4  4              2.0           1.0             0.0                         \n",
       "\n",
       "   behavioral_avoidance  behavioral_face_mask  behavioral_wash_hands  \\\n",
       "0  0.0                   0.0                   0.0                     \n",
       "1  1.0                   0.0                   1.0                     \n",
       "2  1.0                   0.0                   0.0                     \n",
       "3  1.0                   0.0                   1.0                     \n",
       "4  1.0                   0.0                   1.0                     \n",
       "\n",
       "   behavioral_large_gatherings  behavioral_outside_home  \\\n",
       "0  0.0                          1.0                       \n",
       "1  0.0                          1.0                       \n",
       "2  0.0                          0.0                       \n",
       "3  1.0                          0.0                       \n",
       "4  1.0                          0.0                       \n",
       "\n",
       "   behavioral_touch_face  doctor_recc_h1n1  doctor_recc_seasonal  \\\n",
       "0  1.0                    0.0               0.0                    \n",
       "1  1.0                    0.0               0.0                    \n",
       "2  0.0                   NaN               NaN                     \n",
       "3  0.0                    0.0               1.0                    \n",
       "4  1.0                    0.0               0.0                    \n",
       "\n",
       "   chronic_med_condition  child_under_6_months  health_worker  \\\n",
       "0  0.0                    0.0                   0.0             \n",
       "1  0.0                    0.0                   0.0             \n",
       "2  1.0                    0.0                   0.0             \n",
       "3  1.0                    0.0                   0.0             \n",
       "4  0.0                    0.0                   0.0             \n",
       "\n",
       "   health_insurance  opinion_h1n1_vacc_effective  opinion_h1n1_risk  \\\n",
       "0  1.0               3.0                          1.0                 \n",
       "1  1.0               5.0                          4.0                 \n",
       "2 NaN                3.0                          1.0                 \n",
       "3 NaN                3.0                          3.0                 \n",
       "4 NaN                3.0                          3.0                 \n",
       "\n",
       "   opinion_h1n1_sick_from_vacc  opinion_seas_vacc_effective  \\\n",
       "0  2.0                          2.0                           \n",
       "1  4.0                          4.0                           \n",
       "2  1.0                          4.0                           \n",
       "3  5.0                          5.0                           \n",
       "4  2.0                          3.0                           \n",
       "\n",
       "   opinion_seas_risk  opinion_seas_sick_from_vacc      age_group  \\\n",
       "0  1.0                2.0                          55 - 64 Years   \n",
       "1  2.0                4.0                          35 - 44 Years   \n",
       "2  1.0                2.0                          18 - 34 Years   \n",
       "3  4.0                1.0                          65+ Years       \n",
       "4  1.0                4.0                          45 - 54 Years   \n",
       "\n",
       "          education   race     sex             income_poverty marital_status  \\\n",
       "0  < 12 Years        White  Female  Below Poverty              Not Married     \n",
       "1  12 Years          White  Male    Below Poverty              Not Married     \n",
       "2  College Graduate  White  Male    <= $75,000, Above Poverty  Not Married     \n",
       "3  12 Years          White  Female  Below Poverty              Not Married     \n",
       "4  Some College      White  Female  <= $75,000, Above Poverty  Married         \n",
       "\n",
       "  rent_or_own   employment_status hhs_geo_region                census_msa  \\\n",
       "0  Own         Not in Labor Force  oxchjgsf       Non-MSA                    \n",
       "1  Rent        Employed            bhuqouqj       MSA, Not Principle  City   \n",
       "2  Own         Employed            qufhixun       MSA, Not Principle  City   \n",
       "3  Rent        Not in Labor Force  lrircsnp       MSA, Principle City        \n",
       "4  Own         Employed            qufhixun       MSA, Not Principle  City   \n",
       "\n",
       "   household_adults  household_children employment_industry  \\\n",
       "0  0.0               0.0                 NaN                  \n",
       "1  0.0               0.0                 pxcmvdjn             \n",
       "2  2.0               0.0                 rucpziij             \n",
       "3  0.0               0.0                 NaN                  \n",
       "4  1.0               0.0                 wxleyezf             \n",
       "\n",
       "  employment_occupation  respondent_id_  h1n1_vaccine  seasonal_vaccine  \n",
       "0  NaN                   0               0             0                 \n",
       "1  xgwztkwe              1               0             1                 \n",
       "2  xtkaffoo              2               0             0                 \n",
       "3  NaN                   3               0             1                 \n",
       "4  emcorrxb              4               0             0                 "
      ]
     },
     "execution_count": 8,
     "metadata": {},
     "output_type": "execute_result"
    }
   ],
   "source": [
    "df_joined.head()"
   ]
  },
  {
   "cell_type": "code",
   "execution_count": 9,
   "metadata": {},
   "outputs": [],
   "source": [
    "# step 2: create a function that creates the vaccination rate plot, by column:\n",
    "def vaccination_rate_plot(col, target, ax=None):\n",
    "    \"\"\"\n",
    "    Stacked bar plot, plotting the vaccination rates by the column of interest\n",
    "    \n",
    "    Args:\n",
    "        • col: column of interest\n",
    "        • target: label of interest (h1n1_vaccine or seasonal_vaccine)\n",
    "        • ax: matplotlib axes object to attach plot to\n",
    "    \"\"\"\n",
    "    \n",
    "    # get counts table\n",
    "    counts = pd.crosstab(df_joined[col], df_joined[target])\n",
    "    \n",
    "    # get counts, by group in the column\n",
    "    group_counts = counts.sum(axis='columns')\n",
    "    \n",
    "    # get proportions of no vaccination, vaccination, by group\n",
    "    props = counts.div(group_counts, axis='index')\n",
    "    \n",
    "    # plot proportions\n",
    "    props.plot(kind=\"barh\", stacked=True, ax=ax)\n",
    "    \n",
    "    # invert y axis, remove labels\n",
    "    ax.invert_yaxis()\n",
    "    ax.legend().remove()"
   ]
  },
  {
   "cell_type": "markdown",
   "metadata": {},
   "source": [
    "From past news coverage and literature (see links below), what factors seem to affect people's tendency to get the flu vaccine? (in no particular order)\n",
    "1. Age\n",
    "2. Gender\n",
    "3. Education\n",
    "4. Degree of concern about the virus\n",
    "5. Degree of awareness about the virus\n",
    "6. Whether their doctor recommended the vaccine\n",
    "7. If they have a chronic medical condition\n",
    "8. If they're in contact with very young children (since the children can be at risk)\n",
    "9. Their opinion about the vaccine (does it work? Is there a risk? Can they get sick from it?)\n",
    "10. If they're a healthcare worker (or in the healthcare field). \n",
    "\n",
    "****Sources are cited in the bottom of this document.****\n",
    "\n",
    "So, let's add these columns in a list, loop through each of them, and get a plot of the proportion of vaccination rates"
   ]
  },
  {
   "cell_type": "code",
   "execution_count": 10,
   "metadata": {},
   "outputs": [],
   "source": [
    "# get columns that could be of interest\n",
    "cols_to_iterate = ['h1n1_concern', 'h1n1_knowledge', 'doctor_recc_h1n1', 'doctor_recc_seasonal',\n",
    "                  'chronic_med_condition', 'child_under_6_months', 'opinion_h1n1_vacc_effective',\n",
    "                  'opinion_h1n1_risk', 'opinion_h1n1_sick_from_vacc', 'opinion_seas_vacc_effective', \n",
    "                  'opinion_seas_risk', 'opinion_seas_sick_from_vacc', 'age_group', 'education', \n",
    "                  'sex', 'income_poverty']"
   ]
  },
  {
   "cell_type": "code",
   "execution_count": 160,
   "metadata": {},
   "outputs": [
    {
     "data": {
      "image/png": "[encoded data removed]",
      "text/plain": [
       "<Figure size 648x2880 with 32 Axes>"
      ]
     },
     "metadata": {
      "needs_background": "light"
     },
     "output_type": "display_data"
    }
   ],
   "source": [
    "# set up figure, axes\n",
    "fig, ax = plt.subplots(len(cols_to_iterate), 2, \n",
    "                       figsize=(9,len(cols_to_iterate)*2.5))\n",
    "\n",
    "# iterate through all columns\n",
    "for index, col in enumerate(cols_to_iterate):\n",
    "    \n",
    "    # make first plot, the h1n1 plot\n",
    "    vaccination_rate_plot(col, 'h1n1_vaccine', ax=ax[index, 0])\n",
    "    # make second plot, the seasonal flu plot\n",
    "    vaccination_rate_plot(col, 'seasonal_vaccine', ax=ax[index, 1])\n",
    "    \n",
    "# set up labels\n",
    "ax[0, 0].legend(loc='lower center', bbox_to_anchor=(0.5, 1.05), title='h1n1_vaccine')\n",
    "ax[0, 1].legend(loc='lower center', bbox_to_anchor=(0.5, 1.05), title='seasonal_vaccine')\n",
    "\n",
    "# get tight layout\n",
    "fig.tight_layout()"
   ]
  },
  {
   "cell_type": "markdown",
   "metadata": {},
   "source": [
    "From the results above, we observe the following:\n",
    "\n",
    "#### For the H1N1 vaccine, we observe that the following factors correlate with higher rates of vaccination (and seem to be significant? Though a more rigorous statistical test could verify this):\n",
    "1. Increased H1N1 concern\n",
    "2. Increase in knowledge about H1N1\n",
    "3. If their doctor recommended that they get the H1N1 vaccine (half of the people who were recommended the h1n1 vaccine by their doctors eventually got it - though this represents 5,408 out of the 24,547 observations)\n",
    "4. If their doctor recommended the seasonal vaccine\n",
    "5. If they have a prior chronic medical condition\n",
    "6. If they have a child under 6 months\n",
    "7. If they have a high opinion of the h1n1 vaccine\n",
    "8. If they have a high opinion of the risk of getting sick without the h1n1 vaccine\n",
    "9. If they think that the seasonal flu vaccine is effective\n",
    "10. If they think that the risk of getting sick without the seasonal flu vaccine is high.\n",
    "\n",
    "Slight effects for the rest of the covariates\n",
    "\n",
    "#### For the seasonal vaccine, we observe that the following factors correlate with higher rates of vaccination:\n",
    "1. Increased H1N1 concern\n",
    "2. Increased knowledge of H1N1\n",
    "3. Doctor recommended H1N1 vaccine\n",
    "4. Doctor recommended seasonal flu vaccine (very strong effect)\n",
    "5. Has chronic medical condition (strong effect)\n",
    "6. Thinks that H1N1 vaccine is effective\n",
    "7. Thinks that they're at high risk of getting sick without the H1N1 vaccine\n",
    "8. Thinks that seasonal flu vaccine is effective (very strong effect)\n",
    "9. Thinks that they're at high risk of getting sick without the seasonal flu vaccine\n",
    "10. Age: as people get older, the adoption of seasonal flu vaccine increases\n",
    "11. Education (some effect - college graduates more likely)\n",
    "12. Income (some effect - those below poverty less likely)\n",
    "\n",
    "#### In general, we observe the following:\n",
    "1. It might be worth investigating the possibility of collinearity (e.g., do the people who receive a doctor's recommendation for the h1n1 virus also receive a recommendation for the seasonal flu virus?)\n",
    "2. People's opinions about the (a) danger of the virus (b) effectiveness of the vaccine and (c) their own need for the vaccine all seem like strong predictors of their adoption of the vaccine. \n",
    "3. Demographic factors, in large part, didn't predict adoption of the vaccine.\n",
    "4. Age predicted adoption of the seasonal flu vaccine (as people got older, they were more likely to get the seasonal flu vaccine), but not the H1N1 vaccine. \n",
    "\n"
   ]
  },
  {
   "cell_type": "markdown",
   "metadata": {},
   "source": [
    "#### Question 4: How do the covariates relate to each other?\n",
    "\n",
    "Source: http://seaborn.pydata.org/examples/many_pairwise_correlations.html\n",
    "\n",
    "Now that we understand how the covariates relate to the outcome variables, let's see how they relate to each other. Let's look at only the numeric variables."
   ]
  },
  {
   "cell_type": "code",
   "execution_count": 17,
   "metadata": {},
   "outputs": [],
   "source": [
    "# get numeric columns\n",
    "numeric_columns = [col for col in train.columns if train[col].dtype == 'float64']"
   ]
  },
  {
   "cell_type": "code",
   "execution_count": 39,
   "metadata": {},
   "outputs": [],
   "source": [
    "# subset training data\n",
    "numeric_training_data = train.loc[:, numeric_columns]"
   ]
  },
  {
   "cell_type": "code",
   "execution_count": 20,
   "metadata": {},
   "outputs": [],
   "source": [
    "# get correlation matrix\n",
    "corr_matrix = numeric_training_data.corr()"
   ]
  },
  {
   "cell_type": "code",
   "execution_count": 33,
   "metadata": {},
   "outputs": [
    {
     "data": {
      "text/plain": [
       "0.5918676633641384"
      ]
     },
     "execution_count": 33,
     "metadata": {},
     "output_type": "execute_result"
    }
   ],
   "source": [
    "# what is the maximum correlation? (apart from the diagonals)\n",
    "np.max(np.tril(corr_matrix, k = -1))"
   ]
  },
  {
   "cell_type": "code",
   "execution_count": 23,
   "metadata": {},
   "outputs": [],
   "source": [
    "# generate upper triangle mask\n",
    "mask = np.triu(np.ones_like(corr_matrix, dtype=np.bool))"
   ]
  },
  {
   "cell_type": "code",
   "execution_count": 25,
   "metadata": {},
   "outputs": [
    {
     "data": {
      "image/png": "[encoded data removed]",
      "text/plain": [
       "<Figure size 720x576 with 2 Axes>"
      ]
     },
     "metadata": {
      "needs_background": "light"
     },
     "output_type": "display_data"
    }
   ],
   "source": [
    "# Set up the matplotlib figure\n",
    "fig, ax = plt.subplots(figsize=(10, 8))\n",
    "\n",
    "# Generate a custom diverging colormap\n",
    "cmap = sns.diverging_palette(220, 10, as_cmap=True)\n",
    "\n",
    "# Draw the heatmap with the mask and correct aspect ratio\n",
    "sns.heatmap(corr_matrix, mask = mask, cmap = cmap, vmax = .3, center = 0,\n",
    "            square = True, linewidths = .5, cbar_kws = {\"shrink\": .5})\n",
    "plt.show()"
   ]
  },
  {
   "cell_type": "markdown",
   "metadata": {},
   "source": [
    "#### Comments\n",
    "\n",
    "As we'd expect, the covariates regarding people's opinions about the vaccine's efficacy have a strong positive correlation. \n",
    "\n",
    "Moreover, we also observe that certain behavioral metrics (e.g., how often people go out into large crowds or how often they touch their face) correlate with their concern about the flu. \n",
    "\n",
    "I was surprised by the weak correlations that the number of children in the household had with the measures - past literature suggested that if a household has more children, they'd be more in support of the vaccine because children are at risk. However, we also see that 'child_under_6_months' covariate has a slight positive correlation with all the metrics, suggesting that if there is a child in the household, then that adult will be more likely to get a vaccine. One way to explain these two results is to perhaps conclude that if there are \"older\" children in the household, their parents may not think that they're at risk to catch the flu, whereas parents believe that young children are particularly susceptible to catching the flu. \n",
    "\n"
   ]
  },
  {
   "cell_type": "markdown",
   "metadata": {},
   "source": [
    "#### Question 5: Could we run a preliminary model and see what the relative feature importance is?\n",
    "\n",
    "Source: https://machinelearningmastery.com/calculate-feature-importance-with-python/\n",
    "Source: https://towardsdatascience.com/data-science-for-startups-exploratory-data-analysis-70ac1815ddec\n",
    "\n",
    "Our previous graphs tell us how the covariates relate to each other and to the outcome variables. Without delving too much into the modelling aspect, could we create a preliminary model that takes all the covariates into account and observes which ones seem to be more important than the others?\n",
    "\n",
    "Let's use, in this first stab, the numeric covariates (so as to not have to one-hot-encode at the moment). This seems ok because, from our past EDA and from past literature, it seems like our numeric covariates (e.g., the ones that test people's opinions about the flu, as well as their past behavior) are likely the variables that are most predictive of flu vaccination rates. \n",
    "\n",
    "At the moment, let's impute any NaNs with the median value."
   ]
  },
  {
   "cell_type": "code",
   "execution_count": 45,
   "metadata": {},
   "outputs": [
    {
     "data": {
      "text/plain": [
       "h1n1_concern                   92   \n",
       "h1n1_knowledge                 116  \n",
       "behavioral_antiviral_meds      71   \n",
       "behavioral_avoidance           208  \n",
       "behavioral_face_mask           19   \n",
       "behavioral_wash_hands          42   \n",
       "behavioral_large_gatherings    87   \n",
       "behavioral_outside_home        82   \n",
       "behavioral_touch_face          128  \n",
       "doctor_recc_h1n1               2160 \n",
       "doctor_recc_seasonal           2160 \n",
       "chronic_med_condition          971  \n",
       "child_under_6_months           820  \n",
       "health_worker                  804  \n",
       "health_insurance               12274\n",
       "opinion_h1n1_vacc_effective    391  \n",
       "opinion_h1n1_risk              388  \n",
       "opinion_h1n1_sick_from_vacc    395  \n",
       "opinion_seas_vacc_effective    462  \n",
       "opinion_seas_risk              514  \n",
       "opinion_seas_sick_from_vacc    537  \n",
       "household_adults               249  \n",
       "household_children             249  \n",
       "dtype: int64"
      ]
     },
     "execution_count": 45,
     "metadata": {},
     "output_type": "execute_result"
    }
   ],
   "source": [
    "# check for NaNs\n",
    "numeric_training_data.isnull().sum()"
   ]
  },
  {
   "cell_type": "code",
   "execution_count": 47,
   "metadata": {},
   "outputs": [],
   "source": [
    "# impute missing values\n",
    "imp_train = SimpleImputer(missing_values = np.nan, strategy = 'median')\n",
    "\n",
    "# fit imputer objects\n",
    "train_numeric_imputed = pd.DataFrame(imp_train.fit_transform(numeric_training_data),\n",
    "                                     columns = numeric_training_data.columns)"
   ]
  },
  {
   "cell_type": "code",
   "execution_count": 48,
   "metadata": {},
   "outputs": [],
   "source": [
    "# create logistic regression objects\n",
    "h1n1_model = LogisticRegression()\n",
    "seasonal_model = LogisticRegression()"
   ]
  },
  {
   "cell_type": "code",
   "execution_count": 49,
   "metadata": {},
   "outputs": [
    {
     "name": "stderr",
     "output_type": "stream",
     "text": [
      "/Users/mark/anaconda3/lib/python3.7/site-packages/sklearn/linear_model/logistic.py:432: FutureWarning:\n",
      "\n",
      "Default solver will be changed to 'lbfgs' in 0.22. Specify a solver to silence this warning.\n",
      "\n",
      "/Users/mark/anaconda3/lib/python3.7/site-packages/sklearn/linear_model/logistic.py:432: FutureWarning:\n",
      "\n",
      "Default solver will be changed to 'lbfgs' in 0.22. Specify a solver to silence this warning.\n",
      "\n"
     ]
    },
    {
     "data": {
      "text/plain": [
       "LogisticRegression(C=1.0, class_weight=None, dual=False, fit_intercept=True,\n",
       "                   intercept_scaling=1, l1_ratio=None, max_iter=100,\n",
       "                   multi_class='warn', n_jobs=None, penalty='l2',\n",
       "                   random_state=None, solver='warn', tol=0.0001, verbose=0,\n",
       "                   warm_start=False)"
      ]
     },
     "execution_count": 49,
     "metadata": {},
     "output_type": "execute_result"
    }
   ],
   "source": [
    "# fit models\n",
    "h1n1_model.fit(train_numeric_imputed, train_labels['h1n1_vaccine'])\n",
    "seasonal_model.fit(train_numeric_imputed, train_labels['seasonal_vaccine'])"
   ]
  },
  {
   "cell_type": "markdown",
   "metadata": {},
   "source": [
    "Now, let's plot the feature importance for each logistic regression\n",
    "\n",
    "#### For whether or not a person gets the H1N1 vaccine"
   ]
  },
  {
   "cell_type": "code",
   "execution_count": 52,
   "metadata": {},
   "outputs": [],
   "source": [
    "# get feature importance values\n",
    "h1n1_importance = h1n1_model.coef_[0]"
   ]
  },
  {
   "cell_type": "code",
   "execution_count": 65,
   "metadata": {},
   "outputs": [
    {
     "name": "stdout",
     "output_type": "stream",
     "text": [
      "Importance for the 'h1n1_concern' column (Column # 0) : -0.09628876880822293\n",
      "Importance for the 'h1n1_knowledge' column (Column # 1) : 0.15418981980004667\n",
      "Importance for the 'behavioral_antiviral_meds' column (Column # 2) : 0.11673788856082062\n",
      "Importance for the 'behavioral_avoidance' column (Column # 3) : -0.039910433601361144\n",
      "Importance for the 'behavioral_face_mask' column (Column # 4) : 0.17227973570007196\n",
      "Importance for the 'behavioral_wash_hands' column (Column # 5) : -0.006471533651793797\n",
      "Importance for the 'behavioral_large_gatherings' column (Column # 6) : -0.19804308353804695\n",
      "Importance for the 'behavioral_outside_home' column (Column # 7) : -0.030262639181693793\n",
      "Importance for the 'behavioral_touch_face' column (Column # 8) : 0.03468981763801026\n",
      "Importance for the 'doctor_recc_h1n1' column (Column # 9) : 1.9681562056957875\n",
      "Importance for the 'doctor_recc_seasonal' column (Column # 10) : -0.41162446013439763\n",
      "Importance for the 'chronic_med_condition' column (Column # 11) : 0.10969828559223681\n",
      "Importance for the 'child_under_6_months' column (Column # 12) : 0.20382720288709352\n",
      "Importance for the 'health_worker' column (Column # 13) : 0.7322849413761797\n",
      "Importance for the 'health_insurance' column (Column # 14) : 0.29716113571201763\n",
      "Importance for the 'opinion_h1n1_vacc_effective' column (Column # 15) : 0.6033050143928341\n",
      "Importance for the 'opinion_h1n1_risk' column (Column # 16) : 0.34854965393917453\n",
      "Importance for the 'opinion_h1n1_sick_from_vacc' column (Column # 17) : -0.017507184782658843\n",
      "Importance for the 'opinion_seas_vacc_effective' column (Column # 18) : 0.09956390559287792\n",
      "Importance for the 'opinion_seas_risk' column (Column # 19) : 0.1492355240307591\n",
      "Importance for the 'opinion_seas_sick_from_vacc' column (Column # 20) : -0.08886990474146202\n",
      "Importance for the 'household_adults' column (Column # 21) : -0.0017192453183142713\n",
      "Importance for the 'household_children' column (Column # 22) : -0.10524974582828528\n"
     ]
    },
    {
     "data": {
      "image/png": "[encoded data removed]",
      "text/plain": [
       "<Figure size 432x288 with 1 Axes>"
      ]
     },
     "metadata": {
      "needs_background": "light"
     },
     "output_type": "display_data"
    }
   ],
   "source": [
    "# summarize feature importance\n",
    "for index, (col_name,importance) in enumerate(zip(train_numeric_imputed.columns, h1n1_importance)):\n",
    "    print(f\"Importance for the '{col_name}' column (Column # {index}) : {importance}\")\n",
    "# plot feature importance\n",
    "plt.bar([x for x in range(len(h1n1_importance))], h1n1_importance)\n",
    "plt.show()"
   ]
  },
  {
   "cell_type": "code",
   "execution_count": 82,
   "metadata": {},
   "outputs": [
    {
     "data": {
      "text/html": [
       "<div>\n",
       "<style scoped>\n",
       "    .dataframe tbody tr th:only-of-type {\n",
       "        vertical-align: middle;\n",
       "    }\n",
       "\n",
       "    .dataframe tbody tr th {\n",
       "        vertical-align: top;\n",
       "    }\n",
       "\n",
       "    .dataframe thead th {\n",
       "        text-align: right;\n",
       "    }\n",
       "</style>\n",
       "<table border=\"1\" class=\"dataframe\">\n",
       "  <thead>\n",
       "    <tr style=\"text-align: right;\">\n",
       "      <th>opinion_h1n1_risk</th>\n",
       "      <th>1.0</th>\n",
       "      <th>2.0</th>\n",
       "      <th>3.0</th>\n",
       "      <th>4.0</th>\n",
       "      <th>5.0</th>\n",
       "    </tr>\n",
       "    <tr>\n",
       "      <th>doctor_recc_h1n1</th>\n",
       "      <th></th>\n",
       "      <th></th>\n",
       "      <th></th>\n",
       "      <th></th>\n",
       "      <th></th>\n",
       "    </tr>\n",
       "  </thead>\n",
       "  <tbody>\n",
       "    <tr>\n",
       "      <th>0.0</th>\n",
       "      <td>0.349175</td>\n",
       "      <td>0.397542</td>\n",
       "      <td>0.043357</td>\n",
       "      <td>0.165673</td>\n",
       "      <td>0.044253</td>\n",
       "    </tr>\n",
       "    <tr>\n",
       "      <th>1.0</th>\n",
       "      <td>0.174497</td>\n",
       "      <td>0.307420</td>\n",
       "      <td>0.033184</td>\n",
       "      <td>0.340418</td>\n",
       "      <td>0.144482</td>\n",
       "    </tr>\n",
       "    <tr>\n",
       "      <th>All</th>\n",
       "      <td>0.310652</td>\n",
       "      <td>0.377667</td>\n",
       "      <td>0.041113</td>\n",
       "      <td>0.204210</td>\n",
       "      <td>0.066357</td>\n",
       "    </tr>\n",
       "  </tbody>\n",
       "</table>\n",
       "</div>"
      ],
      "text/plain": [
       "opinion_h1n1_risk       1.0       2.0       3.0       4.0       5.0\n",
       "doctor_recc_h1n1                                                   \n",
       "0.0                0.349175  0.397542  0.043357  0.165673  0.044253\n",
       "1.0                0.174497  0.307420  0.033184  0.340418  0.144482\n",
       "All                0.310652  0.377667  0.041113  0.204210  0.066357"
      ]
     },
     "execution_count": 82,
     "metadata": {},
     "output_type": "execute_result"
    }
   ],
   "source": [
    "# how does a person's opinions about their H1N1 risk level vary by whether they received a H1N1 vaccine rec?\n",
    "pd.crosstab(train['doctor_recc_h1n1'],  train['opinion_h1n1_risk'], margins = True, normalize = 'index')"
   ]
  },
  {
   "cell_type": "markdown",
   "metadata": {},
   "source": [
    "#### Comment\n",
    "\n",
    "From this feature importance chart, it seems like the features that are most important in predicting whether a person gets the flu vaccine are (1) if their doctor recommends it - this is much stronger than any other factor, (2) if they're a health worker, (3) if they think that the H1N1 vaccine is effective, and (4) if they think that they're at risk if they don't get the H1N1 vaccine. \n",
    "\n",
    "I was surprised to find out how effectively we were able to predict if a person would get the H1N1 vaccine based solely on if their doctor recommended it or not - this was much more predictive than any other factor. We saw that only 25% of people in the survey received the H1N1 vaccine, but up to 50% of people who received a recommendation from their doctor to receive the H1N1 vaccine ended up receiving the vaccine (as opposed to 10% of people who did not receive a recommendation from their doctor to receive the H1N1 vaccine). Only 22% of participants were recommended to receive the H1N1 vaccine from their doctor (5,408 out of 24,547 participants) - this is in contrast to the 33% of participants who were recommended to receive the seasonal flu vaccine from their doctor. \n",
    "\n",
    "One way to explain this effect would be to suggest that if a participant received a recommendation from a doctor to receive the H1N1 vaccine, then the participant likely sees the H1N1 flu as a threat. This is at least somewhat true - we see that a participant's opinion about their risk levels for H1N1 positively correlate with their probability of receiving a vaccine. Moreover, as per the table above, we see that 48% of participants who received an H1N1 vaccine recommendation from their doctor rated their opinion about their own H1N1 risk levels to be either a 4 or 5 (in contrast, for participants who didn't receive the recommendation, only 20% believed their risk levels to be either a 4 or 5). On one hand, this could be a chicken-and-egg problem: did the participant already believe themselves to be at risk, and the doctor reinforce it, or vice versa? Plus, the people who received a recommendation from a doctor to receive the vaccine are those who went to see the doctor in the first place, while those who didn't receive a recommendation from a doctor may or may not have even seen a doctor (which creates a possible self-selecting bias in our data as well). \n",
    "\n",
    "But, I think it's valid to assume that if a doctor were to recommend the vaccine, a participant is more likely to believe that they're at risk if they don't receive it, and this further exacerbates whatever risks or concerns they already had, which could explain why a doctor's recommendation is the strongest predictor for if a person gets the H1N1 flu vaccine"
   ]
  },
  {
   "cell_type": "markdown",
   "metadata": {},
   "source": [
    "#### For whether or not a person gets the seasonal flu vaccine"
   ]
  },
  {
   "cell_type": "code",
   "execution_count": 67,
   "metadata": {},
   "outputs": [],
   "source": [
    "# get feature importance\n",
    "seasonal_importance = seasonal_model.coef_[0]"
   ]
  },
  {
   "cell_type": "code",
   "execution_count": 68,
   "metadata": {},
   "outputs": [
    {
     "name": "stdout",
     "output_type": "stream",
     "text": [
      "Importance for the 'h1n1_concern' column (Column # 0) : 0.03600025446663148\n",
      "Importance for the 'h1n1_knowledge' column (Column # 1) : 0.18367420091533165\n",
      "Importance for the 'behavioral_antiviral_meds' column (Column # 2) : -0.06917692071251408\n",
      "Importance for the 'behavioral_avoidance' column (Column # 3) : -0.043685371798794836\n",
      "Importance for the 'behavioral_face_mask' column (Column # 4) : 0.015085831886384553\n",
      "Importance for the 'behavioral_wash_hands' column (Column # 5) : 0.06847631141482038\n",
      "Importance for the 'behavioral_large_gatherings' column (Column # 6) : 0.005258714881993659\n",
      "Importance for the 'behavioral_outside_home' column (Column # 7) : -0.02430975085569697\n",
      "Importance for the 'behavioral_touch_face' column (Column # 8) : 0.24837288968905408\n",
      "Importance for the 'doctor_recc_h1n1' column (Column # 9) : -0.33753821941718987\n",
      "Importance for the 'doctor_recc_seasonal' column (Column # 10) : 1.5445135149660183\n",
      "Importance for the 'chronic_med_condition' column (Column # 11) : 0.34284609375587616\n",
      "Importance for the 'child_under_6_months' column (Column # 12) : -0.027503293126671616\n",
      "Importance for the 'health_worker' column (Column # 13) : 0.6885911136412055\n",
      "Importance for the 'health_insurance' column (Column # 14) : 0.903782361762538\n",
      "Importance for the 'opinion_h1n1_vacc_effective' column (Column # 15) : 0.0032260786170776002\n",
      "Importance for the 'opinion_h1n1_risk' column (Column # 16) : 0.004625628308414989\n",
      "Importance for the 'opinion_h1n1_sick_from_vacc' column (Column # 17) : -0.06856603960982639\n",
      "Importance for the 'opinion_seas_vacc_effective' column (Column # 18) : 0.5901781914465273\n",
      "Importance for the 'opinion_seas_risk' column (Column # 19) : 0.5142820381635624\n",
      "Importance for the 'opinion_seas_sick_from_vacc' column (Column # 20) : -0.22196777735063192\n",
      "Importance for the 'household_adults' column (Column # 21) : -0.11832278994789375\n",
      "Importance for the 'household_children' column (Column # 22) : -0.2418317418913022\n"
     ]
    },
    {
     "data": {
      "image/png": "[encoded data removed]",
      "text/plain": [
       "<Figure size 432x288 with 1 Axes>"
      ]
     },
     "metadata": {
      "needs_background": "light"
     },
     "output_type": "display_data"
    }
   ],
   "source": [
    "# summarize feature importance\n",
    "for index, (col_name,importance) in enumerate(zip(train_numeric_imputed.columns, seasonal_importance)):\n",
    "    print(f\"Importance for the '{col_name}' column (Column # {index}) : {importance}\")\n",
    "# plot feature importance\n",
    "plt.bar([x for x in range(len(seasonal_importance))], seasonal_importance)\n",
    "plt.show()"
   ]
  },
  {
   "cell_type": "code",
   "execution_count": 87,
   "metadata": {},
   "outputs": [
    {
     "data": {
      "text/html": [
       "<div>\n",
       "<style scoped>\n",
       "    .dataframe tbody tr th:only-of-type {\n",
       "        vertical-align: middle;\n",
       "    }\n",
       "\n",
       "    .dataframe tbody tr th {\n",
       "        vertical-align: top;\n",
       "    }\n",
       "\n",
       "    .dataframe thead th {\n",
       "        text-align: right;\n",
       "    }\n",
       "</style>\n",
       "<table border=\"1\" class=\"dataframe\">\n",
       "  <thead>\n",
       "    <tr style=\"text-align: right;\">\n",
       "      <th>opinion_seas_risk</th>\n",
       "      <th>1.0</th>\n",
       "      <th>2.0</th>\n",
       "      <th>3.0</th>\n",
       "      <th>4.0</th>\n",
       "      <th>5.0</th>\n",
       "    </tr>\n",
       "    <tr>\n",
       "      <th>doctor_recc_seasonal</th>\n",
       "      <th></th>\n",
       "      <th></th>\n",
       "      <th></th>\n",
       "      <th></th>\n",
       "      <th></th>\n",
       "    </tr>\n",
       "  </thead>\n",
       "  <tbody>\n",
       "    <tr>\n",
       "      <th>0.0</th>\n",
       "      <td>0.274085</td>\n",
       "      <td>0.373388</td>\n",
       "      <td>0.024687</td>\n",
       "      <td>0.246066</td>\n",
       "      <td>0.081775</td>\n",
       "    </tr>\n",
       "    <tr>\n",
       "      <th>1.0</th>\n",
       "      <td>0.135767</td>\n",
       "      <td>0.274659</td>\n",
       "      <td>0.025128</td>\n",
       "      <td>0.386798</td>\n",
       "      <td>0.177647</td>\n",
       "    </tr>\n",
       "    <tr>\n",
       "      <th>All</th>\n",
       "      <td>0.228370</td>\n",
       "      <td>0.340757</td>\n",
       "      <td>0.024833</td>\n",
       "      <td>0.292579</td>\n",
       "      <td>0.113462</td>\n",
       "    </tr>\n",
       "  </tbody>\n",
       "</table>\n",
       "</div>"
      ],
      "text/plain": [
       "opinion_seas_risk          1.0       2.0       3.0       4.0       5.0\n",
       "doctor_recc_seasonal                                                  \n",
       "0.0                   0.274085  0.373388  0.024687  0.246066  0.081775\n",
       "1.0                   0.135767  0.274659  0.025128  0.386798  0.177647\n",
       "All                   0.228370  0.340757  0.024833  0.292579  0.113462"
      ]
     },
     "execution_count": 87,
     "metadata": {},
     "output_type": "execute_result"
    }
   ],
   "source": [
    "# how does a person's opinions about their flu risk level vary by whether they received a flu vaccine rec?\n",
    "pd.crosstab(train['doctor_recc_seasonal'],  train['opinion_seas_risk'], margins = True, normalize = 'index')"
   ]
  },
  {
   "cell_type": "code",
   "execution_count": 88,
   "metadata": {},
   "outputs": [
    {
     "data": {
      "text/html": [
       "<div>\n",
       "<style scoped>\n",
       "    .dataframe tbody tr th:only-of-type {\n",
       "        vertical-align: middle;\n",
       "    }\n",
       "\n",
       "    .dataframe tbody tr th {\n",
       "        vertical-align: top;\n",
       "    }\n",
       "\n",
       "    .dataframe thead th {\n",
       "        text-align: right;\n",
       "    }\n",
       "</style>\n",
       "<table border=\"1\" class=\"dataframe\">\n",
       "  <thead>\n",
       "    <tr style=\"text-align: right;\">\n",
       "      <th>opinion_seas_vacc_effective</th>\n",
       "      <th>1.0</th>\n",
       "      <th>2.0</th>\n",
       "      <th>3.0</th>\n",
       "      <th>4.0</th>\n",
       "      <th>5.0</th>\n",
       "    </tr>\n",
       "    <tr>\n",
       "      <th>doctor_recc_seasonal</th>\n",
       "      <th></th>\n",
       "      <th></th>\n",
       "      <th></th>\n",
       "      <th></th>\n",
       "      <th></th>\n",
       "    </tr>\n",
       "  </thead>\n",
       "  <tbody>\n",
       "    <tr>\n",
       "      <th>0.0</th>\n",
       "      <td>0.054532</td>\n",
       "      <td>0.100499</td>\n",
       "      <td>0.056565</td>\n",
       "      <td>0.475199</td>\n",
       "      <td>0.313205</td>\n",
       "    </tr>\n",
       "    <tr>\n",
       "      <th>1.0</th>\n",
       "      <td>0.029173</td>\n",
       "      <td>0.049869</td>\n",
       "      <td>0.022067</td>\n",
       "      <td>0.380626</td>\n",
       "      <td>0.518265</td>\n",
       "    </tr>\n",
       "    <tr>\n",
       "      <th>All</th>\n",
       "      <td>0.046144</td>\n",
       "      <td>0.083753</td>\n",
       "      <td>0.045155</td>\n",
       "      <td>0.443918</td>\n",
       "      <td>0.381031</td>\n",
       "    </tr>\n",
       "  </tbody>\n",
       "</table>\n",
       "</div>"
      ],
      "text/plain": [
       "opinion_seas_vacc_effective       1.0       2.0       3.0       4.0       5.0\n",
       "doctor_recc_seasonal                                                         \n",
       "0.0                          0.054532  0.100499  0.056565  0.475199  0.313205\n",
       "1.0                          0.029173  0.049869  0.022067  0.380626  0.518265\n",
       "All                          0.046144  0.083753  0.045155  0.443918  0.381031"
      ]
     },
     "execution_count": 88,
     "metadata": {},
     "output_type": "execute_result"
    }
   ],
   "source": [
    "pd.crosstab(train['doctor_recc_seasonal'],  train['opinion_seas_vacc_effective'], margins = True, normalize = 'index')"
   ]
  },
  {
   "cell_type": "markdown",
   "metadata": {},
   "source": [
    "#### Conclusion\n",
    "\n",
    "We can make similar conclusions to our analysis of the H1N1 vaccine above. The strongest predictor, by far, seems to be whether or not a doctor recommended the seasonal vaccine. We also see that whether or not a doctor recommended the seasonal vaccine correlates with how a participant sees their own risk levels for the seasonal flu as well as the effectiveness of the seasonal flu vaccine (though this doesn't quite show causation): if a doctor recommended the seasonal flu vaccine, a participant was more likely to believe that they'd be at risk to become sick with the seasonal flu and that obtaining the seasonal flu vaccine would be effective. \n",
    "\n",
    "However, it was also interesting to observe that whether or not a participant was a health worker or had health insurance were both also strong features in predicting if a person received the seasonal flu vaccine."
   ]
  },
  {
   "cell_type": "markdown",
   "metadata": {},
   "source": [
    "Let's look at health insurance:"
   ]
  },
  {
   "cell_type": "code",
   "execution_count": 93,
   "metadata": {},
   "outputs": [
    {
     "data": {
      "text/html": [
       "<div>\n",
       "<style scoped>\n",
       "    .dataframe tbody tr th:only-of-type {\n",
       "        vertical-align: middle;\n",
       "    }\n",
       "\n",
       "    .dataframe tbody tr th {\n",
       "        vertical-align: top;\n",
       "    }\n",
       "\n",
       "    .dataframe thead th {\n",
       "        text-align: right;\n",
       "    }\n",
       "</style>\n",
       "<table border=\"1\" class=\"dataframe\">\n",
       "  <thead>\n",
       "    <tr style=\"text-align: right;\">\n",
       "      <th>seasonal_vaccine</th>\n",
       "      <th>0</th>\n",
       "      <th>1</th>\n",
       "    </tr>\n",
       "    <tr>\n",
       "      <th>health_insurance</th>\n",
       "      <th></th>\n",
       "      <th></th>\n",
       "    </tr>\n",
       "  </thead>\n",
       "  <tbody>\n",
       "    <tr>\n",
       "      <th>0.0</th>\n",
       "      <td>0.770737</td>\n",
       "      <td>0.229263</td>\n",
       "    </tr>\n",
       "    <tr>\n",
       "      <th>1.0</th>\n",
       "      <td>0.461999</td>\n",
       "      <td>0.538001</td>\n",
       "    </tr>\n",
       "    <tr>\n",
       "      <th>All</th>\n",
       "      <td>0.499134</td>\n",
       "      <td>0.500866</td>\n",
       "    </tr>\n",
       "  </tbody>\n",
       "</table>\n",
       "</div>"
      ],
      "text/plain": [
       "seasonal_vaccine         0         1\n",
       "health_insurance                    \n",
       "0.0               0.770737  0.229263\n",
       "1.0               0.461999  0.538001\n",
       "All               0.499134  0.500866"
      ]
     },
     "execution_count": 93,
     "metadata": {},
     "output_type": "execute_result"
    }
   ],
   "source": [
    "pd.crosstab(train['health_insurance'],  train_labels['seasonal_vaccine'], margins = True, normalize = 'index')"
   ]
  },
  {
   "cell_type": "code",
   "execution_count": 94,
   "metadata": {},
   "outputs": [
    {
     "data": {
      "text/plain": [
       "1.0    12697\n",
       "0.0    1736 \n",
       "Name: health_insurance, dtype: int64"
      ]
     },
     "execution_count": 94,
     "metadata": {},
     "output_type": "execute_result"
    }
   ],
   "source": [
    "train['health_insurance'].value_counts()"
   ]
  },
  {
   "cell_type": "markdown",
   "metadata": {},
   "source": [
    "Let's look at whether they're a health worker:"
   ]
  },
  {
   "cell_type": "code",
   "execution_count": 92,
   "metadata": {},
   "outputs": [
    {
     "data": {
      "text/html": [
       "<div>\n",
       "<style scoped>\n",
       "    .dataframe tbody tr th:only-of-type {\n",
       "        vertical-align: middle;\n",
       "    }\n",
       "\n",
       "    .dataframe tbody tr th {\n",
       "        vertical-align: top;\n",
       "    }\n",
       "\n",
       "    .dataframe thead th {\n",
       "        text-align: right;\n",
       "    }\n",
       "</style>\n",
       "<table border=\"1\" class=\"dataframe\">\n",
       "  <thead>\n",
       "    <tr style=\"text-align: right;\">\n",
       "      <th>seasonal_vaccine</th>\n",
       "      <th>0</th>\n",
       "      <th>1</th>\n",
       "    </tr>\n",
       "    <tr>\n",
       "      <th>health_worker</th>\n",
       "      <th></th>\n",
       "      <th></th>\n",
       "    </tr>\n",
       "  </thead>\n",
       "  <tbody>\n",
       "    <tr>\n",
       "      <th>0.0</th>\n",
       "      <td>0.554382</td>\n",
       "      <td>0.445618</td>\n",
       "    </tr>\n",
       "    <tr>\n",
       "      <th>1.0</th>\n",
       "      <td>0.352880</td>\n",
       "      <td>0.647120</td>\n",
       "    </tr>\n",
       "    <tr>\n",
       "      <th>All</th>\n",
       "      <td>0.531830</td>\n",
       "      <td>0.468170</td>\n",
       "    </tr>\n",
       "  </tbody>\n",
       "</table>\n",
       "</div>"
      ],
      "text/plain": [
       "seasonal_vaccine         0         1\n",
       "health_worker                       \n",
       "0.0               0.554382  0.445618\n",
       "1.0               0.352880  0.647120\n",
       "All               0.531830  0.468170"
      ]
     },
     "execution_count": 92,
     "metadata": {},
     "output_type": "execute_result"
    }
   ],
   "source": [
    "pd.crosstab(train['health_worker'],  train_labels['seasonal_vaccine'], margins = True, normalize = 'index')"
   ]
  },
  {
   "cell_type": "code",
   "execution_count": 109,
   "metadata": {},
   "outputs": [
    {
     "data": {
      "text/plain": [
       "0.0    23004\n",
       "1.0    2899 \n",
       "Name: health_worker, dtype: int64"
      ]
     },
     "execution_count": 109,
     "metadata": {},
     "output_type": "execute_result"
    }
   ],
   "source": [
    "train['health_worker'].value_counts()"
   ]
  },
  {
   "cell_type": "code",
   "execution_count": 104,
   "metadata": {},
   "outputs": [
    {
     "data": {
      "text/html": [
       "<div>\n",
       "<style scoped>\n",
       "    .dataframe tbody tr th:only-of-type {\n",
       "        vertical-align: middle;\n",
       "    }\n",
       "\n",
       "    .dataframe tbody tr th {\n",
       "        vertical-align: top;\n",
       "    }\n",
       "\n",
       "    .dataframe thead th {\n",
       "        text-align: right;\n",
       "    }\n",
       "</style>\n",
       "<table border=\"1\" class=\"dataframe\">\n",
       "  <thead>\n",
       "    <tr style=\"text-align: right;\">\n",
       "      <th>seasonal_vaccine</th>\n",
       "      <th>0</th>\n",
       "      <th>1</th>\n",
       "    </tr>\n",
       "    <tr>\n",
       "      <th>health_worker</th>\n",
       "      <th></th>\n",
       "      <th></th>\n",
       "    </tr>\n",
       "  </thead>\n",
       "  <tbody>\n",
       "    <tr>\n",
       "      <th>0.0</th>\n",
       "      <td>12753</td>\n",
       "      <td>10251</td>\n",
       "    </tr>\n",
       "    <tr>\n",
       "      <th>1.0</th>\n",
       "      <td>1023</td>\n",
       "      <td>1876</td>\n",
       "    </tr>\n",
       "  </tbody>\n",
       "</table>\n",
       "</div>"
      ],
      "text/plain": [
       "seasonal_vaccine      0      1\n",
       "health_worker                 \n",
       "0.0               12753  10251\n",
       "1.0               1023   1876 "
      ]
     },
     "execution_count": 104,
     "metadata": {},
     "output_type": "execute_result"
    }
   ],
   "source": [
    "pd.crosstab(train['health_worker'],  train_labels['seasonal_vaccine'])"
   ]
  },
  {
   "cell_type": "markdown",
   "metadata": {},
   "source": [
    "We see that the values are pretty skewed, but we also see that the base rates are skewed (88% of participants had health insurance level, out of those participants for whom we had that information; 11% of participants were health workers). We can do statistical tests to see if this difference is significant (using a chi-square test).\n",
    "\n",
    "For our expected values, we assume that getting the seasonal vaccine isn't related to whether a person has health insurance or whether they're a health worker. Therefore, we calculate our expected values for each cell as 0.5 * expected # of people in that condition. For example, if 10% of people are health workers, we expect that 0.5 * 0.1 * (total # of participants) people would get the vaccine. We'd assume the same for people who don't get the vaccine, since here we're assuming that whether or not one gets the vaccine doesn't depend on their status."
   ]
  },
  {
   "cell_type": "markdown",
   "metadata": {},
   "source": [
    "Let's start with looking at health insurance"
   ]
  },
  {
   "cell_type": "code",
   "execution_count": 118,
   "metadata": {},
   "outputs": [
    {
     "data": {
      "text/html": [
       "<div>\n",
       "<style scoped>\n",
       "    .dataframe tbody tr th:only-of-type {\n",
       "        vertical-align: middle;\n",
       "    }\n",
       "\n",
       "    .dataframe tbody tr th {\n",
       "        vertical-align: top;\n",
       "    }\n",
       "\n",
       "    .dataframe thead th {\n",
       "        text-align: right;\n",
       "    }\n",
       "</style>\n",
       "<table border=\"1\" class=\"dataframe\">\n",
       "  <thead>\n",
       "    <tr style=\"text-align: right;\">\n",
       "      <th>seasonal_vaccine</th>\n",
       "      <th>0</th>\n",
       "      <th>1</th>\n",
       "    </tr>\n",
       "    <tr>\n",
       "      <th>health_insurance</th>\n",
       "      <th></th>\n",
       "      <th></th>\n",
       "    </tr>\n",
       "  </thead>\n",
       "  <tbody>\n",
       "    <tr>\n",
       "      <th>0.0</th>\n",
       "      <td>1338</td>\n",
       "      <td>398</td>\n",
       "    </tr>\n",
       "    <tr>\n",
       "      <th>1.0</th>\n",
       "      <td>5866</td>\n",
       "      <td>6831</td>\n",
       "    </tr>\n",
       "  </tbody>\n",
       "</table>\n",
       "</div>"
      ],
      "text/plain": [
       "seasonal_vaccine     0     1\n",
       "health_insurance            \n",
       "0.0               1338  398 \n",
       "1.0               5866  6831"
      ]
     },
     "execution_count": 118,
     "metadata": {},
     "output_type": "execute_result"
    }
   ],
   "source": [
    "# our actual observations\n",
    "pd.crosstab(train['health_insurance'],  train_labels['seasonal_vaccine'])"
   ]
  },
  {
   "cell_type": "code",
   "execution_count": 128,
   "metadata": {},
   "outputs": [
    {
     "name": "stdout",
     "output_type": "stream",
     "text": [
      "[[868.0, 868.0], [6348.5, 6348.5]]\n"
     ]
    }
   ],
   "source": [
    "# our expected counts\n",
    "expected_counts_health_insurance = [[0.5 * (train['health_insurance'].value_counts()[0] / train['health_insurance'].value_counts().sum()) * train['health_insurance'].value_counts().sum(), \n",
    "                                     0.5 * (train['health_insurance'].value_counts()[0] / train['health_insurance'].value_counts().sum()) * train['health_insurance'].value_counts().sum()], \n",
    "                                    [0.5 * (train['health_insurance'].value_counts()[1] / train['health_insurance'].value_counts().sum()) * train['health_insurance'].value_counts().sum(), \n",
    "                                     0.5 * (train['health_insurance'].value_counts()[1] / train['health_insurance'].value_counts().sum()) * train['health_insurance'].value_counts().sum()]]\n",
    "print(expected_counts_health_insurance)\n"
   ]
  },
  {
   "cell_type": "code",
   "execution_count": 129,
   "metadata": {},
   "outputs": [
    {
     "data": {
      "text/plain": [
       "Power_divergenceResult(statistic=array([291.16415159, 291.16415159]), pvalue=array([2.77268124e-65, 2.77268124e-65]))"
      ]
     },
     "execution_count": 129,
     "metadata": {},
     "output_type": "execute_result"
    }
   ],
   "source": [
    "# for how health insurance relates to getting the seasonal vaccine\n",
    "scipy.stats.chisquare(pd.crosstab(train['health_insurance'],  \n",
    "                                  train_labels['seasonal_vaccine']), \n",
    "                      f_exp = expected_counts_health_insurance)\n"
   ]
  },
  {
   "cell_type": "markdown",
   "metadata": {},
   "source": [
    "Now let's look at one's status as a health worker "
   ]
  },
  {
   "cell_type": "code",
   "execution_count": 130,
   "metadata": {},
   "outputs": [
    {
     "data": {
      "text/html": [
       "<div>\n",
       "<style scoped>\n",
       "    .dataframe tbody tr th:only-of-type {\n",
       "        vertical-align: middle;\n",
       "    }\n",
       "\n",
       "    .dataframe tbody tr th {\n",
       "        vertical-align: top;\n",
       "    }\n",
       "\n",
       "    .dataframe thead th {\n",
       "        text-align: right;\n",
       "    }\n",
       "</style>\n",
       "<table border=\"1\" class=\"dataframe\">\n",
       "  <thead>\n",
       "    <tr style=\"text-align: right;\">\n",
       "      <th>seasonal_vaccine</th>\n",
       "      <th>0</th>\n",
       "      <th>1</th>\n",
       "    </tr>\n",
       "    <tr>\n",
       "      <th>health_worker</th>\n",
       "      <th></th>\n",
       "      <th></th>\n",
       "    </tr>\n",
       "  </thead>\n",
       "  <tbody>\n",
       "    <tr>\n",
       "      <th>0.0</th>\n",
       "      <td>12753</td>\n",
       "      <td>10251</td>\n",
       "    </tr>\n",
       "    <tr>\n",
       "      <th>1.0</th>\n",
       "      <td>1023</td>\n",
       "      <td>1876</td>\n",
       "    </tr>\n",
       "  </tbody>\n",
       "</table>\n",
       "</div>"
      ],
      "text/plain": [
       "seasonal_vaccine      0      1\n",
       "health_worker                 \n",
       "0.0               12753  10251\n",
       "1.0               1023   1876 "
      ]
     },
     "execution_count": 130,
     "metadata": {},
     "output_type": "execute_result"
    }
   ],
   "source": [
    "# our actual observations\n",
    "pd.crosstab(train['health_worker'],  train_labels['seasonal_vaccine'])"
   ]
  },
  {
   "cell_type": "code",
   "execution_count": 131,
   "metadata": {},
   "outputs": [
    {
     "name": "stdout",
     "output_type": "stream",
     "text": [
      "[[11502.0, 11502.0], [1449.5, 1449.5]]\n"
     ]
    }
   ],
   "source": [
    "# our expected counts\n",
    "expected_counts_health_worker = [[0.5 * (train['health_worker'].value_counts()[0] / train['health_worker'].value_counts().sum()) * train['health_worker'].value_counts().sum(), \n",
    "                                  0.5 * (train['health_worker'].value_counts()[0] / train['health_worker'].value_counts().sum()) * train['health_worker'].value_counts().sum()], \n",
    "                                 [0.5 * (train['health_worker'].value_counts()[1] / train['health_worker'].value_counts().sum()) * train['health_worker'].value_counts().sum(), \n",
    "                                  0.5 * (train['health_worker'].value_counts()[1] / train['health_worker'].value_counts().sum()) * train['health_worker'].value_counts().sum()]]\n",
    "print(expected_counts_health_worker)\n"
   ]
  },
  {
   "cell_type": "code",
   "execution_count": 132,
   "metadata": {},
   "outputs": [
    {
     "data": {
      "text/plain": [
       "Power_divergenceResult(statistic=array([261.55648135, 261.55648135]), pvalue=array([7.85677282e-59, 7.85677282e-59]))"
      ]
     },
     "execution_count": 132,
     "metadata": {},
     "output_type": "execute_result"
    }
   ],
   "source": [
    "# for how being a health worker relates to getting the seasonal vaccine\n",
    "scipy.stats.chisquare(pd.crosstab(train['health_worker'],  \n",
    "                                  train_labels['seasonal_vaccine']), \n",
    "                     f_exp = expected_counts_health_worker)\n"
   ]
  },
  {
   "cell_type": "markdown",
   "metadata": {},
   "source": [
    "#### Comments\n",
    "\n",
    "We see (thanks to the chi-squared test) that having health insurance or being a health worker significantly affects whether or not one gets the seasonal flu vaccine (but doesn't indicate the direction, instead indicating that there is at least a significant relationship). From looking at the tables, we observe that if one doesn't have health insurance, they are less likely to get the seasonal flu vaccine (and if they do have health insurance, they are more likely to get health insurance). We also observe that if one isn't a health worker, they are less likely to get the seasonal flu vaccine (but if they are a health worker, they are more likely to get the seasonal flu vaccine). \n",
    "\n",
    "This suggests that perhaps one way to promote adoption of the seasonal flu vaccine is to provide easier access to the vaccine for those who do not have health insurance. \n",
    "\n",
    "But, could it also be the case that people who don't have health insurance are less likely to see a doctor? We don't have a question that directly answers this, but we can hypothesize that this could explain, in part, our observed effect. \n",
    "\n",
    "These resources seem to suggest that, as we'd expect, people without health insurance are less likely to see a doctor: \n",
    "1. https://www.kff.org/uninsured/issue-brief/key-facts-about-the-uninsured-population/\n",
    "2. https://www.ncbi.nlm.nih.gov/pmc/articles/PMC4351276/\n",
    "\n",
    "Therefore, I would expect that if people without health insurance were to see a doctor, they would be more likely to get the seasonal flu vaccine (if it were within their means to afford it, of course, which is another complication to be considered). My initial hypothesis would be that our observed effect (that people without health insurance are less likely to get the seasonal flu vaccine) would be more likely to do so if they were to nudged to and given the opportunity to see a doctor. \n",
    "\n",
    "In the table below, we see that people without health insurance were advised to get the seasonal flu vaccine only 19% of the time, while people with insurance were advised to get the seasonal flu vaccine 37% of the time. Barring any difference in measures such as health, it would seem to be that the only relevant difference between the two groups is that those without health insurance are less likely to see a doctor in the first place. "
   ]
  },
  {
   "cell_type": "code",
   "execution_count": 141,
   "metadata": {},
   "outputs": [
    {
     "data": {
      "text/html": [
       "<div>\n",
       "<style scoped>\n",
       "    .dataframe tbody tr th:only-of-type {\n",
       "        vertical-align: middle;\n",
       "    }\n",
       "\n",
       "    .dataframe tbody tr th {\n",
       "        vertical-align: top;\n",
       "    }\n",
       "\n",
       "    .dataframe thead th {\n",
       "        text-align: right;\n",
       "    }\n",
       "</style>\n",
       "<table border=\"1\" class=\"dataframe\">\n",
       "  <thead>\n",
       "    <tr style=\"text-align: right;\">\n",
       "      <th>doctor_recc_seasonal</th>\n",
       "      <th>0.0</th>\n",
       "      <th>1.0</th>\n",
       "    </tr>\n",
       "    <tr>\n",
       "      <th>health_insurance</th>\n",
       "      <th></th>\n",
       "      <th></th>\n",
       "    </tr>\n",
       "  </thead>\n",
       "  <tbody>\n",
       "    <tr>\n",
       "      <th>0.0</th>\n",
       "      <td>0.805539</td>\n",
       "      <td>0.194461</td>\n",
       "    </tr>\n",
       "    <tr>\n",
       "      <th>1.0</th>\n",
       "      <td>0.634497</td>\n",
       "      <td>0.365503</td>\n",
       "    </tr>\n",
       "  </tbody>\n",
       "</table>\n",
       "</div>"
      ],
      "text/plain": [
       "doctor_recc_seasonal       0.0       1.0\n",
       "health_insurance                        \n",
       "0.0                   0.805539  0.194461\n",
       "1.0                   0.634497  0.365503"
      ]
     },
     "execution_count": 141,
     "metadata": {},
     "output_type": "execute_result"
    }
   ],
   "source": [
    "pd.crosstab(train['health_insurance'],  train['doctor_recc_seasonal'], normalize = 'index')"
   ]
  },
  {
   "cell_type": "markdown",
   "metadata": {},
   "source": [
    "I also would like to do some further exploration of the health workers - in particular, I'd like to see if differences in health opinions explain why health workers are more likely to get the vaccine than non-health workers. "
   ]
  },
  {
   "cell_type": "code",
   "execution_count": 136,
   "metadata": {},
   "outputs": [
    {
     "name": "stdout",
     "output_type": "stream",
     "text": [
      "======================\n",
      "Now printing cross-table for the following column: opinion_seas_vacc_effective\n",
      "opinion_seas_vacc_effective       1.0       2.0       3.0       4.0       5.0\n",
      "health_worker                                                                \n",
      "0.0                          0.046816  0.084531  0.047731  0.443298  0.377624\n",
      "1.0                          0.035579  0.078411  0.024870  0.448014  0.413126\n",
      "======================\n",
      "Now printing cross-table for the following column: opinion_seas_risk\n",
      "opinion_seas_risk       1.0       2.0       3.0       4.0       5.0\n",
      "health_worker                                                      \n",
      "0.0                0.232564  0.351981  0.026165  0.282368  0.106922\n",
      "1.0                0.183293  0.264066  0.017259  0.369348  0.166034\n",
      "======================\n",
      "Now printing cross-table for the following column: opinion_seas_sick_from_vacc\n",
      "opinion_seas_sick_from_vacc       1.0       2.0       3.0       4.0       5.0\n",
      "health_worker                                                                \n",
      "0.0                          0.448310  0.295307  0.003784  0.186492  0.066107\n",
      "1.0                          0.497756  0.258889  0.001726  0.177770  0.063859\n"
     ]
    }
   ],
   "source": [
    "for col in ['opinion_seas_vacc_effective', 'opinion_seas_risk', 'opinion_seas_sick_from_vacc']:\n",
    "    print(\"======================\")\n",
    "    print(f\"Now printing cross-table for the following column: {col}\")\n",
    "    print(pd.crosstab(train['health_worker'],  train[col], normalize = 'index'))"
   ]
  },
  {
   "cell_type": "markdown",
   "metadata": {},
   "source": [
    "From a cursory analysis, it seems like healthcare workers more strongly believe that the seasonal flu vaccine is effective and that they might be at risk if they don't get the vaccine, but it doesn't seem like it would be statistically significant. These factors likely do not explain why healthcare workers are significantly more likely to get the seasonal flu vaccine than non-healthcare workers. \n",
    "\n",
    "I can conduct analyses later to delve deeper into this relationship, but at the moment it suffices to show that healthcare workers are more likely to get the seasonal flu vaccine. "
   ]
  },
  {
   "cell_type": "markdown",
   "metadata": {},
   "source": [
    "### Conclusion\n",
    "\n",
    "From this EDA, we have a general sense of which factors correlate with vaccination rates. It seems to corrobate past literature on factors that influence people's proclivity for vaccination rates. \n",
    "\n",
    "More than anything else, we see that a doctor's recommendation seems to be the biggest influencing factor for whether or not a person receives a vaccine. This relationship isn't necessarily causal (for example, the people who see a doctor might be proactive anyways or be predisposed to believe that they're at risk), but it might suggest that one big first step in encouraging people to receive vaccines is to have them see a doctor in the first place. Logically, this makes sense - a doctor can address the concerns that a person has about receiving a vaccine, and people might be more likely to receive the vaccine after having discussed it with an authoritative expert in the matter.\n",
    "\n",
    "At the moment, I'll use these insights for my first stab at the problem. \n",
    "\n",
    "Some of the preliminary findings are: \n",
    "\n",
    "1. Whether or not a doctor recommended a person to get a vaccine was the strongest predictor of if a person got either the H1N1 or the seasonal flu vaccine. However, this may not necessarily be causal. For example, this might just indicate that people who go see the doctor are inclined to be more careful with their health - so, our observed effect might be due to a selection bias. \n",
    "\n",
    "2. People without health insurance are less likely to get the seasonal flu vaccine, though this just might be due to the fact that people without health insurance are less likely to see a doctor and therefore less likely to be advised that they need the flu vaccine. \n",
    "\n",
    "3. Healthcare workers are more likely to get the seasonal flu vaccine than non-healthcare workers, but it doesn't seem to be due to the fact that they think the seasonal flu is more dangerous than do their counterparts. \n",
    "\n",
    "4. Having children in the household somewhat predicts if a person is likely to get the H1N1 or seasonal flu vaccine - but this seems to only be the case if one has a very young child (e.g., 6 months old) who has yet to develop a strong immune system. \n",
    "\n",
    "5. Those with pre-existing conditions see themselves as more likely to get sick from either the H1N1 or the seasonal flu, and they're also more likely to get the associated vaccines (likely as a result of these beliefs).\n",
    "\n",
    "From this, it seems like the two most relevant interventions for promoting vaccine adoption are:\n",
    "\n",
    "1. Increase access to and spread of information regarding the flu - as people's awareness of either the H1N1 or the seasonal flu increases, they tend to be more likely to get the vaccine. \n",
    "\n",
    "2. Get people to see their doctors - whether or not a doctor told someone to get a vaccine was the strongest predictor of whether or not they got the vaccine. It is possible that people who see their doctor are more wary about their health in the first place, just as it is possible that poeple who weren't recommended by their doctor to get the vaccine just hadn't seen their doctor in the first place. However, it would logically make sense that seeing a doctor would nudge a person to get the vaccine if the doctor were to advise them to do so. \n",
    "\n",
    "Subsequent attempts could look into:\n",
    "\n",
    "1. Determining which factors are collinear\n",
    "2. Feature engineering\n",
    "3. Use more of the covariates (I took a subset of the covariates, the ones that I thought would be important based off past literature)\n",
    "4. Use different covariates for predicting each outcome (for example, it might not make sense to use a person's opinions about H1N1 to predict their probability of getting the seasonal flu vaccine)"
   ]
  },
  {
   "cell_type": "markdown",
   "metadata": {},
   "source": [
    "### Sources\n",
    "\n",
    "Below are the sources that I used in my research for this project (not including help with StackOverflow or the pandas/numpy/matplotlib documentation)"
   ]
  },
  {
   "cell_type": "markdown",
   "metadata": {},
   "source": [
    "Agüero, F., Adell, M. N., Pérez Giménez, A., López Medina, M. J., & Garcia Continente, X. (2011). Adoption of preventive measures during and after the 2009 influenza A (H1N1) virus pandemic peak in Spain. Preventive Medicine, 53(3), 203–206. https://doi.org/10.1016/j.ypmed.2011.06.018\n",
    "\n",
    "Betsch, C., & Wicker, S. (2012). E-health use, vaccination knowledge and perception of own risk: Drivers of vaccination uptake in medical students. Vaccine, 30(6), 1143–1148. https://doi.org/10.1016/j.vaccine.2011.12.021\n",
    "\n",
    "Ramsey, M. A., & Marczinski, C. A. (2011). College students’ perceptions of H1N1 flu risk and attitudes toward vaccination. Vaccine, 29(44), 7599–7601. https://doi.org/10.1016/j.vaccine.2011.07.130\n",
    "\n",
    "Velan, B., Kaplan, G., Ziv, A., Boyko, V., & Lerner-Geva, L. (2011). Major motives in non-acceptance of A/H1N1 flu vaccination: The weight of rational assessment. Vaccine, 29(6), 1173–1179. https://doi.org/10.1016/j.vaccine.2010.12.006\n",
    "\n",
    "\"2009 H1N1 Epidemic\", CDC website, https://www.cdc.gov/flu/pandemic-resources/2009-h1n1-pandemic.html\n",
    "\n",
    "\"The Other Reasons People Don't Get Vaccines\", Scientific American, https://blogs.scientificamerican.com/observations/the-other-reasons-people-dont-get-vaccines/\n",
    "\n",
    "\"Many Americans Believe They Don't Need the Flu Vaccine\", NPR, https://www.npr.org/sections/health-shots/2015/11/27/456202280/many-americans-believe-they-dont-need-the-flu-vaccine\n",
    "\n",
    "\"Almost Half of US Adults to Skip Flu Shot\", WebMD, https://www.webmd.com/cold-and-flu/news/20181210/almost-half-of-us-adults-to-skip-flu-shot#1\n",
    "\n",
    "\"Who Don't People Get the Flu Shot?\", Seeker, https://www.seeker.com/why-dont-people-get-the-flu-shot-1766370718.html\n",
    "\n",
    "Tolbert, J., Orgera, K., & Singer, N. (2019). \"Key Facts about the Uninsured Population\". https://www.kff.org/uninsured/issue-brief/key-facts-about-the-uninsured-population/\n",
    "\n",
    "Taber, J.M., Leyva, B., & Persoskie, A. (2015). \"Why do People Avoid Medical Care? A Qualitative Study Using National Data\". https://www.ncbi.nlm.nih.gov/pmc/articles/PMC4351276/"
   ]
  },
  {
   "cell_type": "code",
   "execution_count": null,
   "metadata": {},
   "outputs": [],
   "source": []
  }
 ],
 "metadata": {
  "kernelspec": {
   "display_name": "Python 3",
   "language": "python",
   "name": "python3"
  },
  "language_info": {
   "codemirror_mode": {
    "name": "ipython",
    "version": 3
   },
   "file_extension": ".py",
   "mimetype": "text/x-python",
   "name": "python",
   "nbconvert_exporter": "python",
   "pygments_lexer": "ipython3",
   "version": "3.7.2"
  }
 },
 "nbformat": 4,
 "nbformat_minor": 4
}
