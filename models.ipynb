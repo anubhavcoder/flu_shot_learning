{
 "cells": [
  {
   "cell_type": "code",
   "execution_count": 100,
   "metadata": {},
   "outputs": [],
   "source": [
    "# import packages\n",
    "import numpy as np\n",
    "import pandas as pd\n",
    "import sklearn\n",
    "import matplotlib.pyplot as plt\n",
    "import os\n",
    "import copy\n",
    "import scipy\n",
    "from pprint import pprint # for nicer printing\n",
    "from sklearn.impute import SimpleImputer\n",
    "from sklearn import linear_model\n",
    "from sklearn.linear_model import LogisticRegression\n",
    "from sklearn.ensemble import RandomForestClassifier\n",
    "from sklearn.metrics import roc_curve\n",
    "from sklearn.metrics import roc_auc_score\n",
    "from sklearn.model_selection import RandomizedSearchCV"
   ]
  },
  {
   "cell_type": "code",
   "execution_count": 34,
   "metadata": {},
   "outputs": [],
   "source": [
    "# change viewing options\n",
    "pd.set_option('display.max_columns', None)  \n",
    "pd.set_option('max_colwidth', -1)"
   ]
  },
  {
   "cell_type": "markdown",
   "metadata": {},
   "source": [
    "### Step 1: Import data"
   ]
  },
  {
   "cell_type": "code",
   "execution_count": 35,
   "metadata": {},
   "outputs": [],
   "source": [
    "# read in the data\n",
    "train = pd.read_csv(\"training_set_features.csv\")\n",
    "train_labels = pd.read_csv(\"training_set_labels.csv\")\n",
    "test = pd.read_csv(\"test_set_features.csv\")"
   ]
  },
  {
   "cell_type": "markdown",
   "metadata": {},
   "source": [
    "### Step 2: Do data preprocessing, scaling, etc."
   ]
  },
  {
   "cell_type": "markdown",
   "metadata": {},
   "source": [
    "From the data exploration phase, we decided which columns were relevant to our analysis. \n",
    "\n",
    "So, we'll subset the training and test sets by these features"
   ]
  },
  {
   "cell_type": "code",
   "execution_count": 36,
   "metadata": {},
   "outputs": [],
   "source": [
    "# get columns to subset\n",
    "columns_subset = ['h1n1_concern', 'h1n1_knowledge', 'doctor_recc_h1n1', 'doctor_recc_seasonal', \n",
    "                 'chronic_med_condition', 'opinion_h1n1_vacc_effective', 'opinion_h1n1_risk', \n",
    "                 'opinion_h1n1_sick_from_vacc', 'opinion_seas_vacc_effective', 'opinion_seas_risk', \n",
    "                 'opinion_seas_sick_from_vacc', 'age_group', 'education', 'income_poverty']"
   ]
  },
  {
   "cell_type": "code",
   "execution_count": 37,
   "metadata": {},
   "outputs": [],
   "source": [
    "# subset datasets\n",
    "train_subset = train.loc[:, columns_subset]\n",
    "test_subset = test.loc[:, columns_subset]"
   ]
  },
  {
   "cell_type": "markdown",
   "metadata": {},
   "source": [
    "From the data imputation phase, we decided on a method to impute NaNs in our dataset"
   ]
  },
  {
   "cell_type": "code",
   "execution_count": 38,
   "metadata": {},
   "outputs": [],
   "source": [
    "# split numeric and non-numeric columns\n",
    "train_subset_numeric = train_subset.loc[:, ['h1n1_concern', 'h1n1_knowledge', 'doctor_recc_h1n1', 'doctor_recc_seasonal', \n",
    "                 'chronic_med_condition', 'opinion_h1n1_vacc_effective', 'opinion_h1n1_risk', \n",
    "                 'opinion_h1n1_sick_from_vacc', 'opinion_seas_vacc_effective', 'opinion_seas_risk', \n",
    "                 'opinion_seas_sick_from_vacc']]\n",
    "\n",
    "train_subset_str = train_subset.loc[:, [ 'age_group', 'education', 'income_poverty']]\n",
    "\n",
    "test_subset_numeric = test_subset.loc[:, ['h1n1_concern', 'h1n1_knowledge', 'doctor_recc_h1n1', 'doctor_recc_seasonal', \n",
    "                 'chronic_med_condition', 'opinion_h1n1_vacc_effective', 'opinion_h1n1_risk', \n",
    "                 'opinion_h1n1_sick_from_vacc', 'opinion_seas_vacc_effective', 'opinion_seas_risk', \n",
    "                 'opinion_seas_sick_from_vacc']]\n",
    "\n",
    "test_subset_str = test_subset.loc[:, [ 'age_group', 'education', 'income_poverty']]\n"
   ]
  },
  {
   "cell_type": "markdown",
   "metadata": {},
   "source": [
    "Imputing numeric columns (using median)"
   ]
  },
  {
   "cell_type": "code",
   "execution_count": 39,
   "metadata": {},
   "outputs": [],
   "source": [
    "# create imputer objects\n",
    "imp_train = SimpleImputer(missing_values=np.nan, strategy='median')\n",
    "imp_test = SimpleImputer(missing_values=np.nan, strategy='median')\n",
    "\n",
    "# fit imputer objects\n",
    "train_subset_numeric_imputed = pd.DataFrame(imp_train.fit_transform(train_subset_numeric),\n",
    "                                            columns = train_subset_numeric.columns)\n",
    "test_subset_numeric_imputed = pd.DataFrame(imp_test.fit_transform(test_subset_numeric), \n",
    "                                           columns = test_subset_numeric.columns)"
   ]
  },
  {
   "cell_type": "markdown",
   "metadata": {},
   "source": [
    "Imputing string/categorical columns (using 'unknown' as a fill value)"
   ]
  },
  {
   "cell_type": "code",
   "execution_count": 40,
   "metadata": {},
   "outputs": [],
   "source": [
    "# create imputer objects\n",
    "imp_train = SimpleImputer(missing_values=np.nan, strategy='constant', fill_value = 'unknown')\n",
    "imp_test = SimpleImputer(missing_values=np.nan, strategy='constant', fill_value = 'unknown')\n",
    "\n",
    "# fit imputer objects\n",
    "train_subset_str_imputed = pd.DataFrame(imp_train.fit_transform(train_subset_str),\n",
    "                                            columns = train_subset_str.columns)\n",
    "train_subset_str_imputed = pd.DataFrame(imp_test.fit_transform(train_subset_str), \n",
    "                                           columns = train_subset_str.columns)"
   ]
  },
  {
   "cell_type": "markdown",
   "metadata": {},
   "source": [
    "Re-joining imputed data"
   ]
  },
  {
   "cell_type": "code",
   "execution_count": 41,
   "metadata": {},
   "outputs": [],
   "source": [
    "# re-join data\n",
    "imputed_train = pd.concat([train_subset_numeric_imputed, train_subset_str_imputed], axis = 1)\n",
    "imputed_test = pd.concat([test_subset_numeric_imputed, train_subset_str_imputed], axis = 1)"
   ]
  },
  {
   "cell_type": "markdown",
   "metadata": {},
   "source": [
    "### Step 3: Start fitting models"
   ]
  },
  {
   "cell_type": "markdown",
   "metadata": {},
   "source": [
    "Now we can start fitting models to create our predictions. \n",
    "\n",
    "I will try using the following models:\n",
    "1. Logistic Regression\n",
    "2. Random Forest\n",
    "3. Feedforward Neural Network"
   ]
  },
  {
   "cell_type": "markdown",
   "metadata": {},
   "source": [
    "Before doing so, we have to one-hot-encode the categorical features. The models can only work with numeric data, so we need to transform the string data (e.g., \"education\", which has values like \"college\") so that it is numeric. \n",
    "\n",
    "We can use label encoding, which replaces each value in a column with a number from 0 to n-1 (with n being the # of unique values). This makes sense for our context since there is a clear ordering in the values of a column (for example, '18-34 years' is clearly less than '35-44 years')"
   ]
  },
  {
   "cell_type": "code",
   "execution_count": 42,
   "metadata": {},
   "outputs": [
    {
     "data": {
      "text/plain": [
       "65+ Years        6843\n",
       "55 - 64 Years    5563\n",
       "45 - 54 Years    5238\n",
       "18 - 34 Years    5215\n",
       "35 - 44 Years    3848\n",
       "Name: age_group, dtype: int64"
      ]
     },
     "execution_count": 42,
     "metadata": {},
     "output_type": "execute_result"
    }
   ],
   "source": [
    "imputed_train['age_group'].value_counts()"
   ]
  },
  {
   "cell_type": "code",
   "execution_count": 43,
   "metadata": {},
   "outputs": [
    {
     "name": "stdout",
     "output_type": "stream",
     "text": [
      "h1n1_concern                   float64\n",
      "h1n1_knowledge                 float64\n",
      "doctor_recc_h1n1               float64\n",
      "doctor_recc_seasonal           float64\n",
      "chronic_med_condition          float64\n",
      "opinion_h1n1_vacc_effective    float64\n",
      "opinion_h1n1_risk              float64\n",
      "opinion_h1n1_sick_from_vacc    float64\n",
      "opinion_seas_vacc_effective    float64\n",
      "opinion_seas_risk              float64\n",
      "opinion_seas_sick_from_vacc    float64\n",
      "age_group                      object \n",
      "education                      object \n",
      "income_poverty                 object \n",
      "dtype: object\n"
     ]
    }
   ],
   "source": [
    "print(imputed_train.dtypes)"
   ]
  },
  {
   "cell_type": "markdown",
   "metadata": {},
   "source": [
    "So, we need to label encode the 'age_group', 'education', and 'income_poverty' columns"
   ]
  },
  {
   "cell_type": "markdown",
   "metadata": {},
   "source": [
    "First, let's convert them to categories"
   ]
  },
  {
   "cell_type": "code",
   "execution_count": 44,
   "metadata": {},
   "outputs": [],
   "source": [
    "# first, let's change the objects to categories\n",
    "imputed_train['age_group'] = imputed_train['age_group'].astype('category')\n",
    "imputed_train['education'] = imputed_train['education'].astype('category')\n",
    "imputed_train['income_poverty'] = imputed_train['income_poverty'].astype('category')"
   ]
  },
  {
   "cell_type": "markdown",
   "metadata": {},
   "source": [
    "##### First, let's look at the 'age_group' column:"
   ]
  },
  {
   "cell_type": "markdown",
   "metadata": {},
   "source": [
    "This is exactly what we expect, so we can directly use the numeric equivalents of the categories"
   ]
  },
  {
   "cell_type": "code",
   "execution_count": 45,
   "metadata": {},
   "outputs": [],
   "source": [
    "# replace categories with categorical codes\n",
    "imputed_train['age_group'] = imputed_train['age_group'].cat.codes"
   ]
  },
  {
   "cell_type": "markdown",
   "metadata": {},
   "source": [
    "##### Now, let's look at the 'education' column: "
   ]
  },
  {
   "cell_type": "code",
   "execution_count": 46,
   "metadata": {},
   "outputs": [
    {
     "data": {
      "text/plain": [
       "Index(['12 Years', '< 12 Years', 'College Graduate', 'Some College',\n",
       "       'unknown'],\n",
       "      dtype='object')"
      ]
     },
     "execution_count": 46,
     "metadata": {},
     "output_type": "execute_result"
    }
   ],
   "source": [
    "# let's see what the categories look like\n",
    "imputed_train['education'].cat.categories"
   ]
  },
  {
   "cell_type": "markdown",
   "metadata": {},
   "source": [
    "These categories aren't in the right order, so we need to rearrange them. "
   ]
  },
  {
   "cell_type": "code",
   "execution_count": 47,
   "metadata": {},
   "outputs": [],
   "source": [
    "imputed_train['education'].cat.reorder_categories(['unknown','< 12 Years', '12 Years', 'Some College', 'College Graduate'],\n",
    "                                                  ordered = True, \n",
    "                                                  inplace = True)"
   ]
  },
  {
   "cell_type": "markdown",
   "metadata": {},
   "source": [
    "Now, let's look at the categories"
   ]
  },
  {
   "cell_type": "code",
   "execution_count": 48,
   "metadata": {},
   "outputs": [
    {
     "data": {
      "text/plain": [
       "College Graduate    10097\n",
       "Some College        7043 \n",
       "12 Years            5797 \n",
       "< 12 Years          2363 \n",
       "unknown             1407 \n",
       "Name: education, dtype: int64"
      ]
     },
     "execution_count": 48,
     "metadata": {},
     "output_type": "execute_result"
    }
   ],
   "source": [
    "imputed_train['education'].value_counts() "
   ]
  },
  {
   "cell_type": "markdown",
   "metadata": {},
   "source": [
    "We see that they are now in the correct order. Now we can replace the categories with their categorical codes"
   ]
  },
  {
   "cell_type": "code",
   "execution_count": 49,
   "metadata": {},
   "outputs": [],
   "source": [
    "# replace categories with categorical codes\n",
    "imputed_train['education'] = imputed_train['education'].cat.codes"
   ]
  },
  {
   "cell_type": "markdown",
   "metadata": {},
   "source": [
    "##### Finally, let's look at the income_poverty column"
   ]
  },
  {
   "cell_type": "code",
   "execution_count": 50,
   "metadata": {},
   "outputs": [
    {
     "data": {
      "text/plain": [
       "Index(['<= $75,000, Above Poverty', '> $75,000', 'Below Poverty', 'unknown'], dtype='object')"
      ]
     },
     "execution_count": 50,
     "metadata": {},
     "output_type": "execute_result"
    }
   ],
   "source": [
    "# let's see what the categories look like\n",
    "imputed_train['income_poverty'].cat.categories"
   ]
  },
  {
   "cell_type": "markdown",
   "metadata": {},
   "source": [
    "These are in the wrong order, so we need to rearrange them"
   ]
  },
  {
   "cell_type": "code",
   "execution_count": 51,
   "metadata": {},
   "outputs": [],
   "source": [
    "imputed_train['income_poverty'].cat.reorder_categories(['unknown','Below Poverty', '<= $75,000, Above Poverty', '> $75,000'],\n",
    "                                                       ordered = True, \n",
    "                                                       inplace = True)\n"
   ]
  },
  {
   "cell_type": "code",
   "execution_count": 52,
   "metadata": {},
   "outputs": [
    {
     "data": {
      "text/plain": [
       "Index(['unknown', 'Below Poverty', '<= $75,000, Above Poverty', '> $75,000'], dtype='object')"
      ]
     },
     "execution_count": 52,
     "metadata": {},
     "output_type": "execute_result"
    }
   ],
   "source": [
    "imputed_train['income_poverty'].cat.categories"
   ]
  },
  {
   "cell_type": "markdown",
   "metadata": {},
   "source": [
    "These are now in the correct order, so we can replace the categories with their categorical codes."
   ]
  },
  {
   "cell_type": "code",
   "execution_count": 53,
   "metadata": {},
   "outputs": [],
   "source": [
    "# replace categories with categorical codes\n",
    "imputed_train['income_poverty'] = imputed_train['income_poverty'].cat.codes\n"
   ]
  },
  {
   "cell_type": "code",
   "execution_count": 54,
   "metadata": {},
   "outputs": [
    {
     "data": {
      "text/plain": [
       "h1n1_concern                   float64\n",
       "h1n1_knowledge                 float64\n",
       "doctor_recc_h1n1               float64\n",
       "doctor_recc_seasonal           float64\n",
       "chronic_med_condition          float64\n",
       "opinion_h1n1_vacc_effective    float64\n",
       "opinion_h1n1_risk              float64\n",
       "opinion_h1n1_sick_from_vacc    float64\n",
       "opinion_seas_vacc_effective    float64\n",
       "opinion_seas_risk              float64\n",
       "opinion_seas_sick_from_vacc    float64\n",
       "age_group                      int8   \n",
       "education                      int8   \n",
       "income_poverty                 int8   \n",
       "dtype: object"
      ]
     },
     "execution_count": 54,
     "metadata": {},
     "output_type": "execute_result"
    }
   ],
   "source": [
    "imputed_train.dtypes"
   ]
  },
  {
   "cell_type": "markdown",
   "metadata": {},
   "source": [
    "Now, all the columns are numeric in some form. For consistency, let's convert age_group, education, and income_poverty to float64 as well"
   ]
  },
  {
   "cell_type": "code",
   "execution_count": 55,
   "metadata": {},
   "outputs": [],
   "source": [
    "# changing to float64\n",
    "imputed_train['age_group'] = imputed_train['age_group'].astype('float64')\n",
    "imputed_train['education'] = imputed_train['education'].astype('float64')\n",
    "imputed_train['income_poverty'] = imputed_train['income_poverty'].astype('float64')\n"
   ]
  },
  {
   "cell_type": "markdown",
   "metadata": {},
   "source": [
    "#### Let's perform the same data cleaning on the test set"
   ]
  },
  {
   "cell_type": "code",
   "execution_count": 56,
   "metadata": {},
   "outputs": [],
   "source": [
    "# first, let's change the objects to categories\n",
    "imputed_test['age_group'] = imputed_test['age_group'].astype('category')\n",
    "imputed_test['education'] = imputed_test['education'].astype('category')\n",
    "imputed_test['income_poverty'] = imputed_test['income_poverty'].astype('category')\n"
   ]
  },
  {
   "cell_type": "code",
   "execution_count": 57,
   "metadata": {},
   "outputs": [],
   "source": [
    "# replace categories with categorical codes\n",
    "imputed_test['age_group'] = imputed_test['age_group'].cat.codes"
   ]
  },
  {
   "cell_type": "code",
   "execution_count": 58,
   "metadata": {},
   "outputs": [],
   "source": [
    "# reorder education categories\n",
    "imputed_test['education'].cat.reorder_categories(['unknown','< 12 Years', '12 Years', 'Some College', 'College Graduate'],\n",
    "                                                  ordered = True, \n",
    "                                                  inplace = True)"
   ]
  },
  {
   "cell_type": "code",
   "execution_count": 59,
   "metadata": {},
   "outputs": [],
   "source": [
    "# replace categories with categorical codes\n",
    "imputed_test['education'] = imputed_test['education'].cat.codes"
   ]
  },
  {
   "cell_type": "code",
   "execution_count": 60,
   "metadata": {},
   "outputs": [],
   "source": [
    "# reorder income poverty\n",
    "imputed_test['income_poverty'].cat.reorder_categories(['unknown','Below Poverty', '<= $75,000, Above Poverty', '> $75,000'],\n",
    "                                                       ordered = True, \n",
    "                                                       inplace = True)\n"
   ]
  },
  {
   "cell_type": "code",
   "execution_count": 61,
   "metadata": {},
   "outputs": [],
   "source": [
    "# replace categories with categorical codes\n",
    "imputed_test['income_poverty'] = imputed_test['income_poverty'].cat.codes\n"
   ]
  },
  {
   "cell_type": "code",
   "execution_count": 62,
   "metadata": {},
   "outputs": [],
   "source": [
    "# changing to float64\n",
    "imputed_test['age_group'] = imputed_test['age_group'].astype('float64')\n",
    "imputed_test['education'] = imputed_test['education'].astype('float64')\n",
    "imputed_test['income_poverty'] = imputed_test['income_poverty'].astype('float64')\n"
   ]
  },
  {
   "cell_type": "markdown",
   "metadata": {},
   "source": [
    "Now, let's split our training set into training and validation sets:"
   ]
  },
  {
   "cell_type": "code",
   "execution_count": 86,
   "metadata": {},
   "outputs": [],
   "source": [
    "X_train, X_eval, y_train, y_eval = sklearn.model_selection.train_test_split(\n",
    "    imputed_train,\n",
    "    train_labels[['h1n1_vaccine', 'seasonal_vaccine']],\n",
    "    test_size = 0.25,\n",
    "    shuffle = True,\n",
    "    stratify = train_labels[['h1n1_vaccine', 'seasonal_vaccine']],\n",
    "    random_state = 100\n",
    ")"
   ]
  },
  {
   "cell_type": "markdown",
   "metadata": {},
   "source": [
    "Now, let's also create a function to evaluate the performance of our predictions. The competition evaluates our performance using a ROC-AUC curve, so we'll create a wrapper function on top of sklearn's roc-auc-curve function (the inspiration coming from this link: https://www.drivendata.co/blog/predict-flu-vaccine-data-benchmark/)"
   ]
  },
  {
   "cell_type": "code",
   "execution_count": 64,
   "metadata": {},
   "outputs": [],
   "source": [
    "def plot_roc(y_true, y_score, label_name, ax):\n",
    "    fpr, tpr, thresholds = roc_curve(y_true, y_score)\n",
    "    ax.plot(fpr, tpr)\n",
    "    ax.plot([0, 1], [0, 1], color='grey', linestyle='--')\n",
    "    ax.set_ylabel('TPR')\n",
    "    ax.set_xlabel('FPR')\n",
    "    ax.set_title(\n",
    "        f\"{label_name}: AUC = {roc_auc_score(y_true, y_score):.4f}\"\n",
    "    )"
   ]
  },
  {
   "cell_type": "markdown",
   "metadata": {},
   "source": [
    "#### Logistic Regression"
   ]
  },
  {
   "cell_type": "markdown",
   "metadata": {},
   "source": [
    "Let's first fit a logistic regression to make predictions for both vaccines"
   ]
  },
  {
   "cell_type": "code",
   "execution_count": 33,
   "metadata": {},
   "outputs": [
    {
     "name": "stderr",
     "output_type": "stream",
     "text": [
      "/Users/mark/anaconda3/lib/python3.7/site-packages/sklearn/linear_model/logistic.py:432: FutureWarning: Default solver will be changed to 'lbfgs' in 0.22. Specify a solver to silence this warning.\n",
      "  FutureWarning)\n"
     ]
    }
   ],
   "source": [
    "# create model, fit\n",
    "clf_logReg_h1n1 = LogisticRegression().fit(X_train, y_train['h1n1_vaccine'])\n"
   ]
  },
  {
   "cell_type": "code",
   "execution_count": 70,
   "metadata": {},
   "outputs": [],
   "source": [
    "# get predictions\n",
    "preds_logReg_h1n1 = clf_logReg_h1n1.predict_proba(X_eval)"
   ]
  },
  {
   "cell_type": "markdown",
   "metadata": {},
   "source": [
    "Now, let's fit a logistic regression to make predictions for seasonal vaccine adoption."
   ]
  },
  {
   "cell_type": "code",
   "execution_count": 75,
   "metadata": {},
   "outputs": [
    {
     "name": "stderr",
     "output_type": "stream",
     "text": [
      "/Users/mark/anaconda3/lib/python3.7/site-packages/sklearn/linear_model/logistic.py:432: FutureWarning: Default solver will be changed to 'lbfgs' in 0.22. Specify a solver to silence this warning.\n",
      "  FutureWarning)\n"
     ]
    }
   ],
   "source": [
    "# create model, fit\n",
    "clf_logReg_seas = LogisticRegression().fit(X_train, y_train['seasonal_vaccine'])\n"
   ]
  },
  {
   "cell_type": "code",
   "execution_count": 76,
   "metadata": {},
   "outputs": [],
   "source": [
    "# get predictions\n",
    "preds_logReg_seas = clf_logReg_seas.predict_proba(X_eval)"
   ]
  },
  {
   "cell_type": "markdown",
   "metadata": {},
   "source": [
    "Now, let's evaluate their results"
   ]
  },
  {
   "cell_type": "code",
   "execution_count": 137,
   "metadata": {},
   "outputs": [
    {
     "data": {
      "image/png": "[encoded data removed]",
      "text/plain": [
       "<Figure size 504x252 with 2 Axes>"
      ]
     },
     "metadata": {
      "needs_background": "light"
     },
     "output_type": "display_data"
    }
   ],
   "source": [
    "fig, ax = plt.subplots(1, 2, figsize=(7, 3.5))\n",
    "\n",
    "plot_roc(\n",
    "    y_eval['h1n1_vaccine'], \n",
    "    preds_logReg_h1n1[:, 1], \n",
    "    'h1n1_vaccine',\n",
    "    ax=ax[0]\n",
    ")\n",
    "plot_roc(\n",
    "    y_eval['seasonal_vaccine'], \n",
    "    preds_logReg_seas[:, 1], \n",
    "    'seasonal_vaccine',\n",
    "    ax=ax[1]\n",
    ")\n",
    "fig.tight_layout()"
   ]
  },
  {
   "cell_type": "markdown",
   "metadata": {},
   "source": [
    "Now, let's get the roc-auc score directly for both categories:"
   ]
  },
  {
   "cell_type": "code",
   "execution_count": 93,
   "metadata": {},
   "outputs": [],
   "source": [
    "y_preds = np.transpose(np.array([preds_logReg_h1n1[:, 1], preds_logReg_seas[:, 1]]))"
   ]
  },
  {
   "cell_type": "code",
   "execution_count": 95,
   "metadata": {},
   "outputs": [
    {
     "data": {
      "text/plain": [
       "0.8391518975499702"
      ]
     },
     "execution_count": 95,
     "metadata": {},
     "output_type": "execute_result"
    }
   ],
   "source": [
    "roc_auc_score(y_eval, y_preds)\n"
   ]
  },
  {
   "cell_type": "markdown",
   "metadata": {},
   "source": [
    "Now, let's create a model on the full training set and then use that model to make predictions on the test set"
   ]
  },
  {
   "cell_type": "code",
   "execution_count": 105,
   "metadata": {},
   "outputs": [
    {
     "name": "stderr",
     "output_type": "stream",
     "text": [
      "/Users/mark/anaconda3/lib/python3.7/site-packages/sklearn/linear_model/logistic.py:432: FutureWarning: Default solver will be changed to 'lbfgs' in 0.22. Specify a solver to silence this warning.\n",
      "  FutureWarning)\n",
      "/Users/mark/anaconda3/lib/python3.7/site-packages/sklearn/linear_model/logistic.py:432: FutureWarning: Default solver will be changed to 'lbfgs' in 0.22. Specify a solver to silence this warning.\n",
      "  FutureWarning)\n"
     ]
    }
   ],
   "source": [
    "# train both classifiers, fit\n",
    "clf_logReg_h1n1_test = LogisticRegression().fit(imputed_train, train_labels['h1n1_vaccine'])\n",
    "clf_logReg_seas_test = LogisticRegression().fit(imputed_train, train_labels['seasonal_vaccine'])\n",
    "\n",
    "# get predictions\n",
    "preds_logReg_h1n1_test = clf_logReg_h1n1_test.predict_proba(imputed_test)\n",
    "preds_logReg_seas_test = clf_logReg_seas_test.predict_proba(imputed_test)\n",
    "\n"
   ]
  },
  {
   "cell_type": "markdown",
   "metadata": {},
   "source": [
    "Now, let's get the predictions"
   ]
  },
  {
   "cell_type": "code",
   "execution_count": 106,
   "metadata": {},
   "outputs": [
    {
     "data": {
      "text/plain": [
       "(26708, 2)"
      ]
     },
     "execution_count": 106,
     "metadata": {},
     "output_type": "execute_result"
    }
   ],
   "source": [
    "preds_logReg_h1n1_test.shape"
   ]
  },
  {
   "cell_type": "code",
   "execution_count": 113,
   "metadata": {},
   "outputs": [
    {
     "data": {
      "text/plain": [
       "array([0.14597483, 0.06276654, 0.34749246, ..., 0.17210534, 0.05251498,\n",
       "       0.46028176])"
      ]
     },
     "execution_count": 113,
     "metadata": {},
     "output_type": "execute_result"
    }
   ],
   "source": [
    "preds_logReg_h1n1_test[:, 1]"
   ]
  },
  {
   "cell_type": "code",
   "execution_count": 126,
   "metadata": {},
   "outputs": [],
   "source": [
    "# get predictions as a np array\n",
    "y_preds = np.transpose(np.array([test['respondent_id'], preds_logReg_h1n1_test[:, 1], preds_logReg_seas_test[:, 1]]))\n"
   ]
  },
  {
   "cell_type": "code",
   "execution_count": 127,
   "metadata": {},
   "outputs": [
    {
     "data": {
      "text/plain": [
       "(26708, 3)"
      ]
     },
     "execution_count": 127,
     "metadata": {},
     "output_type": "execute_result"
    }
   ],
   "source": [
    "y_preds.shape"
   ]
  },
  {
   "cell_type": "code",
   "execution_count": 128,
   "metadata": {},
   "outputs": [],
   "source": [
    "# turn into pd dataframe\n",
    "y_preds = pd.DataFrame(y_preds, columns = ['respondent_id', 'h1n1_vaccine', 'seasonal_vaccine'])\n"
   ]
  },
  {
   "cell_type": "code",
   "execution_count": 130,
   "metadata": {},
   "outputs": [],
   "source": [
    "# change respondent IDs to ints\n",
    "y_preds['respondent_id'] = y_preds['respondent_id'].astype('int')"
   ]
  },
  {
   "cell_type": "code",
   "execution_count": 132,
   "metadata": {},
   "outputs": [
    {
     "data": {
      "text/html": [
       "<div>\n",
       "<style scoped>\n",
       "    .dataframe tbody tr th:only-of-type {\n",
       "        vertical-align: middle;\n",
       "    }\n",
       "\n",
       "    .dataframe tbody tr th {\n",
       "        vertical-align: top;\n",
       "    }\n",
       "\n",
       "    .dataframe thead th {\n",
       "        text-align: right;\n",
       "    }\n",
       "</style>\n",
       "<table border=\"1\" class=\"dataframe\">\n",
       "  <thead>\n",
       "    <tr style=\"text-align: right;\">\n",
       "      <th></th>\n",
       "      <th>h1n1_vaccine</th>\n",
       "      <th>seasonal_vaccine</th>\n",
       "    </tr>\n",
       "    <tr>\n",
       "      <th>respondent_id</th>\n",
       "      <th></th>\n",
       "      <th></th>\n",
       "    </tr>\n",
       "  </thead>\n",
       "  <tbody>\n",
       "    <tr>\n",
       "      <th>26707</th>\n",
       "      <td>0.145975</td>\n",
       "      <td>0.416652</td>\n",
       "    </tr>\n",
       "    <tr>\n",
       "      <th>26708</th>\n",
       "      <td>0.062767</td>\n",
       "      <td>0.132233</td>\n",
       "    </tr>\n",
       "    <tr>\n",
       "      <th>26709</th>\n",
       "      <td>0.347492</td>\n",
       "      <td>0.442359</td>\n",
       "    </tr>\n",
       "    <tr>\n",
       "      <th>26710</th>\n",
       "      <td>0.487337</td>\n",
       "      <td>0.884713</td>\n",
       "    </tr>\n",
       "    <tr>\n",
       "      <th>26711</th>\n",
       "      <td>0.175903</td>\n",
       "      <td>0.461300</td>\n",
       "    </tr>\n",
       "    <tr>\n",
       "      <th>...</th>\n",
       "      <td>...</td>\n",
       "      <td>...</td>\n",
       "    </tr>\n",
       "    <tr>\n",
       "      <th>53410</th>\n",
       "      <td>0.344159</td>\n",
       "      <td>0.409977</td>\n",
       "    </tr>\n",
       "    <tr>\n",
       "      <th>53411</th>\n",
       "      <td>0.074094</td>\n",
       "      <td>0.462302</td>\n",
       "    </tr>\n",
       "    <tr>\n",
       "      <th>53412</th>\n",
       "      <td>0.172105</td>\n",
       "      <td>0.260964</td>\n",
       "    </tr>\n",
       "    <tr>\n",
       "      <th>53413</th>\n",
       "      <td>0.052515</td>\n",
       "      <td>0.521921</td>\n",
       "    </tr>\n",
       "    <tr>\n",
       "      <th>53414</th>\n",
       "      <td>0.460282</td>\n",
       "      <td>0.233463</td>\n",
       "    </tr>\n",
       "  </tbody>\n",
       "</table>\n",
       "<p>26708 rows × 2 columns</p>\n",
       "</div>"
      ],
      "text/plain": [
       "               h1n1_vaccine  seasonal_vaccine\n",
       "respondent_id                                \n",
       "26707          0.145975      0.416652        \n",
       "26708          0.062767      0.132233        \n",
       "26709          0.347492      0.442359        \n",
       "26710          0.487337      0.884713        \n",
       "26711          0.175903      0.461300        \n",
       "...                 ...           ...        \n",
       "53410          0.344159      0.409977        \n",
       "53411          0.074094      0.462302        \n",
       "53412          0.172105      0.260964        \n",
       "53413          0.052515      0.521921        \n",
       "53414          0.460282      0.233463        \n",
       "\n",
       "[26708 rows x 2 columns]"
      ]
     },
     "execution_count": 132,
     "metadata": {},
     "output_type": "execute_result"
    }
   ],
   "source": [
    "# set respondent IDs as index\n",
    "y_preds.set_index('respondent_id')"
   ]
  },
  {
   "cell_type": "code",
   "execution_count": 135,
   "metadata": {},
   "outputs": [],
   "source": [
    "# export as csv\n",
    "y_preds.to_csv('submissions/submission_1.csv')"
   ]
  },
  {
   "cell_type": "markdown",
   "metadata": {},
   "source": [
    "Next steps: we can tinker with some of the logistic regression parameters and see if it improves performance"
   ]
  },
  {
   "cell_type": "markdown",
   "metadata": {},
   "source": [
    "First, I'll create a generic function to fit models"
   ]
  },
  {
   "cell_type": "code",
   "execution_count": 72,
   "metadata": {},
   "outputs": [],
   "source": [
    "def model_fitter(model, X_train, y_train, X_eval):\n",
    "    \"\"\"\n",
    "        Wrapper function to train and fit models\n",
    "        \n",
    "        Args:\n",
    "            • model: initialized model object\n",
    "            • X_train: training set\n",
    "            • y_train: labels for training set\n",
    "            • X_eval: evaluation set\n",
    "            \n",
    "        Output:\n",
    "            • preds: returns model predictions, as probability\n",
    "    \"\"\"\n",
    "    \n",
    "    # fit model\n",
    "    fitted_model = model.fit(X_train, y_train)\n",
    "    \n",
    "    # get predictions\n",
    "    preds = fitted_model.predict_proba(X_eval)\n",
    "    \n",
    "    # return predictions\n",
    "    return preds"
   ]
  },
  {
   "cell_type": "markdown",
   "metadata": {},
   "source": [
    "Now, let's try a logistic regression, with CV and different solvers"
   ]
  },
  {
   "cell_type": "code",
   "execution_count": 76,
   "metadata": {},
   "outputs": [],
   "source": [
    "solvers = ['newton-cg', 'lbfgs', 'liblinear', 'sag', 'saga']"
   ]
  },
  {
   "cell_type": "code",
   "execution_count": 87,
   "metadata": {},
   "outputs": [
    {
     "name": "stdout",
     "output_type": "stream",
     "text": [
      "Fitting logistic regression for newton-cg\n",
      "==========================\n",
      "Fitting logistic regression for lbfgs\n",
      "==========================\n",
      "Fitting logistic regression for liblinear\n",
      "==========================\n",
      "Fitting logistic regression for sag\n",
      "==========================\n",
      "Fitting logistic regression for saga\n",
      "==========================\n"
     ]
    },
    {
     "data": {
      "image/png": "[encoded data removed]",
      "text/plain": [
       "<Figure size 504x252 with 2 Axes>"
      ]
     },
     "metadata": {
      "needs_background": "light"
     },
     "output_type": "display_data"
    },
    {
     "data": {
      "image/png": "[encoded data removed]",
      "text/plain": [
       "<Figure size 504x252 with 2 Axes>"
      ]
     },
     "metadata": {
      "needs_background": "light"
     },
     "output_type": "display_data"
    },
    {
     "data": {
      "image/png": "[encoded data removed]",
      "text/plain": [
       "<Figure size 504x252 with 2 Axes>"
      ]
     },
     "metadata": {
      "needs_background": "light"
     },
     "output_type": "display_data"
    },
    {
     "data": {
      "image/png": "[encoded data removed]",
      "text/plain": [
       "<Figure size 504x252 with 2 Axes>"
      ]
     },
     "metadata": {
      "needs_background": "light"
     },
     "output_type": "display_data"
    },
    {
     "data": {
      "image/png": "[encoded data removed]",
      "text/plain": [
       "<Figure size 504x252 with 2 Axes>"
      ]
     },
     "metadata": {
      "needs_background": "light"
     },
     "output_type": "display_data"
    }
   ],
   "source": [
    "for solver in solvers:\n",
    "    \n",
    "    print(f\"Fitting logistic regression for {solver}\")\n",
    "    # initialize classifiers:\n",
    "    clf_h1n1 = sklearn.linear_model.LogisticRegressionCV(solver=solver, \n",
    "                                                         cv = 5,\n",
    "                                                         scoring=\"roc_auc\",\n",
    "                                                         max_iter=1000)\n",
    "\n",
    "    clf_seas = sklearn.linear_model.LogisticRegressionCV(solver=solver, \n",
    "                                                         cv = 5,\n",
    "                                                         scoring=\"roc_auc\",\n",
    "                                                         max_iter=1000)\n",
    "\n",
    "    # fit, get preds\n",
    "    preds_h1n1 = model_fitter(clf_h1n1, X_train, y_train['h1n1_vaccine'], X_eval)\n",
    "    preds_seas = model_fitter(clf_seas, X_train, y_train['seasonal_vaccine'], X_eval)\n",
    "    \n",
    "    # plot\n",
    "    fig, ax = plt.subplots(1, 2, figsize=(7, 3.5))\n",
    "\n",
    "    plot_roc(\n",
    "        y_eval['h1n1_vaccine'], \n",
    "        preds_h1n1[:, 1], \n",
    "        'h1n1_vaccine',\n",
    "        ax=ax[0]\n",
    "    )\n",
    "    plot_roc(\n",
    "        y_eval['seasonal_vaccine'], \n",
    "        preds_seas[:, 1], \n",
    "        'seasonal_vaccine',\n",
    "        ax=ax[1]\n",
    "    )\n",
    "    fig.tight_layout()\n",
    "    \n",
    "    del fig, ax, clf_h1n1, clf_seas, preds_h1n1, preds_seas\n",
    "    \n",
    "    print(\"==========================\")"
   ]
  },
  {
   "cell_type": "markdown",
   "metadata": {},
   "source": [
    "Choice of solver doesn't seem to make much difference in the results?"
   ]
  },
  {
   "cell_type": "code",
   "execution_count": null,
   "metadata": {},
   "outputs": [],
   "source": []
  },
  {
   "cell_type": "markdown",
   "metadata": {},
   "source": [
    "#### Random Forest"
   ]
  },
  {
   "cell_type": "markdown",
   "metadata": {},
   "source": [
    "We can use the data from the previous section and fit a random forest classifier. \n",
    "\n",
    "We will need to use grid search and cross-validation to tune our random forest"
   ]
  },
  {
   "cell_type": "markdown",
   "metadata": {},
   "source": [
    "First, I'll use the default parameters for random forest, fit a model based off this. Then, I'll use grid search + cv to improve our parameter."
   ]
  },
  {
   "cell_type": "code",
   "execution_count": 140,
   "metadata": {},
   "outputs": [
    {
     "name": "stderr",
     "output_type": "stream",
     "text": [
      "/Users/mark/anaconda3/lib/python3.7/site-packages/sklearn/ensemble/forest.py:245: FutureWarning: The default value of n_estimators will change from 10 in version 0.20 to 100 in 0.22.\n",
      "  \"10 in version 0.20 to 100 in 0.22.\", FutureWarning)\n"
     ]
    }
   ],
   "source": [
    "# fit random forest classifier for h1n1 vaccine\n",
    "clf_rf_h1n1 = RandomForestClassifier()\n",
    "clf_rf_h1n1.fit(X_train, y_train['h1n1_vaccine'])\n",
    "preds_rf_h1n1 = clf_rf_h1n1.predict_proba(X_eval)"
   ]
  },
  {
   "cell_type": "code",
   "execution_count": 141,
   "metadata": {},
   "outputs": [
    {
     "name": "stderr",
     "output_type": "stream",
     "text": [
      "/Users/mark/anaconda3/lib/python3.7/site-packages/sklearn/ensemble/forest.py:245: FutureWarning: The default value of n_estimators will change from 10 in version 0.20 to 100 in 0.22.\n",
      "  \"10 in version 0.20 to 100 in 0.22.\", FutureWarning)\n"
     ]
    }
   ],
   "source": [
    "# fit random forest classifier for seasonal vaccine\n",
    "clf_rf_seas = RandomForestClassifier()\n",
    "clf_rf_seas.fit(X_train, y_train['seasonal_vaccine'])\n",
    "preds_rf_seas = clf_rf_seas.predict_proba(X_eval)"
   ]
  },
  {
   "cell_type": "code",
   "execution_count": 142,
   "metadata": {},
   "outputs": [
    {
     "data": {
      "image/png": "[encoded data removed]",
      "text/plain": [
       "<Figure size 504x252 with 2 Axes>"
      ]
     },
     "metadata": {
      "needs_background": "light"
     },
     "output_type": "display_data"
    }
   ],
   "source": [
    "# evaluate results\n",
    "fig, ax = plt.subplots(1, 2, figsize=(7, 3.5))\n",
    "\n",
    "plot_roc(\n",
    "    y_eval['h1n1_vaccine'], \n",
    "    preds_rf_h1n1[:, 1], \n",
    "    'h1n1_vaccine',\n",
    "    ax=ax[0]\n",
    ")\n",
    "plot_roc(\n",
    "    y_eval['seasonal_vaccine'], \n",
    "    preds_rf_seas[:, 1], \n",
    "    'seasonal_vaccine',\n",
    "    ax=ax[1]\n",
    ")\n",
    "fig.tight_layout()"
   ]
  },
  {
   "cell_type": "markdown",
   "metadata": {},
   "source": [
    "Now, let's create this for the test set"
   ]
  },
  {
   "cell_type": "code",
   "execution_count": 143,
   "metadata": {},
   "outputs": [
    {
     "name": "stderr",
     "output_type": "stream",
     "text": [
      "/Users/mark/anaconda3/lib/python3.7/site-packages/sklearn/ensemble/forest.py:245: FutureWarning: The default value of n_estimators will change from 10 in version 0.20 to 100 in 0.22.\n",
      "  \"10 in version 0.20 to 100 in 0.22.\", FutureWarning)\n",
      "/Users/mark/anaconda3/lib/python3.7/site-packages/sklearn/ensemble/forest.py:245: FutureWarning: The default value of n_estimators will change from 10 in version 0.20 to 100 in 0.22.\n",
      "  \"10 in version 0.20 to 100 in 0.22.\", FutureWarning)\n"
     ]
    }
   ],
   "source": [
    "# train both classifiers, fit\n",
    "clf_rf_h1n1_test = RandomForestClassifier().fit(imputed_train, train_labels['h1n1_vaccine'])\n",
    "clf_rf_seas_test = RandomForestClassifier().fit(imputed_train, train_labels['seasonal_vaccine'])\n",
    "\n",
    "# get predictions\n",
    "preds_rf_h1n1_test = clf_rf_h1n1_test.predict_proba(imputed_test)\n",
    "preds_rf_seas_test = clf_rf_seas_test.predict_proba(imputed_test)\n",
    "\n"
   ]
  },
  {
   "cell_type": "code",
   "execution_count": 144,
   "metadata": {},
   "outputs": [],
   "source": [
    "# get predictions as a np array\n",
    "y_preds = np.transpose(np.array([test['respondent_id'], preds_rf_h1n1_test[:, 1], preds_rf_seas_test[:, 1]]))\n"
   ]
  },
  {
   "cell_type": "code",
   "execution_count": 145,
   "metadata": {},
   "outputs": [],
   "source": [
    "# turn into pd dataframe\n",
    "y_preds = pd.DataFrame(y_preds, columns = ['respondent_id', 'h1n1_vaccine', 'seasonal_vaccine'])\n"
   ]
  },
  {
   "cell_type": "code",
   "execution_count": 146,
   "metadata": {},
   "outputs": [],
   "source": [
    "# change respondent IDs to ints\n",
    "y_preds['respondent_id'] = y_preds['respondent_id'].astype('int')"
   ]
  },
  {
   "cell_type": "code",
   "execution_count": 147,
   "metadata": {},
   "outputs": [],
   "source": [
    "# export as csv\n",
    "y_preds.to_csv('submissions/submission_2.csv')"
   ]
  },
  {
   "cell_type": "markdown",
   "metadata": {},
   "source": [
    "Now, let's use (randomized) grid search and cross-validation to improve our hyperparameters"
   ]
  },
  {
   "cell_type": "markdown",
   "metadata": {},
   "source": [
    "First, we define a range for each of our parameters that we want to tune"
   ]
  },
  {
   "cell_type": "code",
   "execution_count": 89,
   "metadata": {},
   "outputs": [],
   "source": [
    "# number of trees in random forest\n",
    "n_estimators = [int(x) for x in np.linspace(start = 200, stop = 2000, num = 10)]\n",
    "\n",
    "# Number of features to consider at every split\n",
    "max_features = ['auto', 'sqrt']\n",
    "\n",
    "# Maximum number of levels in tree\n",
    "max_depth = [int(x) for x in np.linspace(10, 40, num = 10)]\n",
    "max_depth.append(None)\n",
    "\n",
    "# Minimum number of samples required to split a node\n",
    "min_samples_split = [2, 5, 10]\n",
    "\n",
    "# Minimum number of samples required at each leaf node\n",
    "min_samples_leaf = [1, 2, 4]\n",
    "\n",
    "# Method of selecting samples for training each tree\n",
    "bootstrap = [True, False]"
   ]
  },
  {
   "cell_type": "markdown",
   "metadata": {},
   "source": [
    "Now, let's define the random grid of parameters"
   ]
  },
  {
   "cell_type": "code",
   "execution_count": 90,
   "metadata": {},
   "outputs": [],
   "source": [
    "random_grid = {'n_estimators': n_estimators,\n",
    "               'max_features': max_features,\n",
    "               'max_depth': max_depth,\n",
    "               'min_samples_split': min_samples_split,\n",
    "               'min_samples_leaf': min_samples_leaf,\n",
    "               'bootstrap': bootstrap}"
   ]
  },
  {
   "cell_type": "code",
   "execution_count": 94,
   "metadata": {},
   "outputs": [
    {
     "name": "stdout",
     "output_type": "stream",
     "text": [
      "{'bootstrap': [True, False],\n",
      " 'max_depth': [10, 13, 16, 20, 23, 26, 30, 33, 36, 40, None],\n",
      " 'max_features': ['auto', 'sqrt'],\n",
      " 'min_samples_leaf': [1, 2, 4],\n",
      " 'min_samples_split': [2, 5, 10],\n",
      " 'n_estimators': [200, 400, 600, 800, 1000, 1200, 1400, 1600, 1800, 2000]}\n"
     ]
    }
   ],
   "source": [
    "pprint.pprint(random_grid)"
   ]
  },
  {
   "cell_type": "code",
   "execution_count": 101,
   "metadata": {},
   "outputs": [
    {
     "name": "stdout",
     "output_type": "stream",
     "text": [
      "Fitting 5 folds for each of 100 candidates, totalling 500 fits\n"
     ]
    },
    {
     "name": "stderr",
     "output_type": "stream",
     "text": [
      "[Parallel(n_jobs=-1)]: Using backend LokyBackend with 4 concurrent workers.\n",
      "[Parallel(n_jobs=-1)]: Done  33 tasks      | elapsed:  8.1min\n",
      "[Parallel(n_jobs=-1)]: Done 154 tasks      | elapsed: 41.1min\n",
      "[Parallel(n_jobs=-1)]: Done 357 tasks      | elapsed: 93.0min\n",
      "[Parallel(n_jobs=-1)]: Done 500 out of 500 | elapsed: 150.3min finished\n"
     ]
    },
    {
     "name": "stdout",
     "output_type": "stream",
     "text": [
      "Fitting 5 folds for each of 100 candidates, totalling 500 fits\n"
     ]
    },
    {
     "name": "stderr",
     "output_type": "stream",
     "text": [
      "[Parallel(n_jobs=-1)]: Using backend LokyBackend with 4 concurrent workers.\n",
      "[Parallel(n_jobs=-1)]: Done  33 tasks      | elapsed:  9.6min\n",
      "[Parallel(n_jobs=-1)]: Done 154 tasks      | elapsed: 48.6min\n",
      "[Parallel(n_jobs=-1)]: Done 357 tasks      | elapsed: 116.2min\n",
      "[Parallel(n_jobs=-1)]: Done 500 out of 500 | elapsed: 162.0min finished\n"
     ]
    },
    {
     "data": {
      "text/plain": [
       "RandomizedSearchCV(cv=5, error_score='raise-deprecating',\n",
       "                   estimator=RandomForestClassifier(bootstrap=True,\n",
       "                                                    class_weight=None,\n",
       "                                                    criterion='gini',\n",
       "                                                    max_depth=None,\n",
       "                                                    max_features='auto',\n",
       "                                                    max_leaf_nodes=None,\n",
       "                                                    min_impurity_decrease=0.0,\n",
       "                                                    min_impurity_split=None,\n",
       "                                                    min_samples_leaf=1,\n",
       "                                                    min_samples_split=2,\n",
       "                                                    min_weight_fraction_leaf=0.0,\n",
       "                                                    n_estimators='warn',\n",
       "                                                    n_jobs=None,\n",
       "                                                    oob_sc...\n",
       "                   iid='warn', n_iter=100, n_jobs=-1,\n",
       "                   param_distributions={'bootstrap': [True, False],\n",
       "                                        'max_depth': [10, 13, 16, 20, 23, 26,\n",
       "                                                      30, 33, 36, 40, None],\n",
       "                                        'max_features': ['auto', 'sqrt'],\n",
       "                                        'min_samples_leaf': [1, 2, 4],\n",
       "                                        'min_samples_split': [2, 5, 10],\n",
       "                                        'n_estimators': [200, 400, 600, 800,\n",
       "                                                         1000, 1200, 1400, 1600,\n",
       "                                                         1800, 2000]},\n",
       "                   pre_dispatch='2*n_jobs', random_state=100, refit=True,\n",
       "                   return_train_score=False, scoring=None, verbose=2)"
      ]
     },
     "execution_count": 101,
     "metadata": {},
     "output_type": "execute_result"
    }
   ],
   "source": [
    "# create the base model\n",
    "rf = RandomForestClassifier()\n",
    "\n",
    "# Random search, 5 fold cross validation, search across 100 different combinations, and use all available cores\n",
    "rf_random = RandomizedSearchCV(estimator = rf, \n",
    "                               param_distributions = random_grid, \n",
    "                               n_iter = 100, \n",
    "                               cv = 5, \n",
    "                               verbose=2, \n",
    "                               random_state=100, \n",
    "                               n_jobs = -1)\n",
    "\n",
    "# make copy, for seasonal vaccine model\n",
    "rf_random_seas = copy.deepcopy(rf_random)\n",
    "\n",
    "# Fit the random search models\n",
    "rf_random.fit(X_train, y_train['h1n1_vaccine'])\n",
    "rf_random_seas.fit(X_train, y_train['seasonal_vaccine'])\n"
   ]
  },
  {
   "cell_type": "markdown",
   "metadata": {},
   "source": [
    "Evaluate performance of random search model:"
   ]
  },
  {
   "cell_type": "code",
   "execution_count": 105,
   "metadata": {},
   "outputs": [],
   "source": [
    "# get predictions\n",
    "preds_rf_h1n1 = rf_random.predict_proba(X_eval)\n",
    "preds_rf_seas = rf_random_seas.predict_proba(X_eval)"
   ]
  },
  {
   "cell_type": "code",
   "execution_count": 106,
   "metadata": {},
   "outputs": [
    {
     "data": {
      "image/png": "[encoded data removed]",
      "text/plain": [
       "<Figure size 504x252 with 2 Axes>"
      ]
     },
     "metadata": {
      "needs_background": "light"
     },
     "output_type": "display_data"
    }
   ],
   "source": [
    "# evaluate results\n",
    "fig, ax = plt.subplots(1, 2, figsize=(7, 3.5))\n",
    "\n",
    "plot_roc(\n",
    "    y_eval['h1n1_vaccine'], \n",
    "    preds_rf_h1n1[:, 1], \n",
    "    'h1n1_vaccine',\n",
    "    ax=ax[0]\n",
    ")\n",
    "plot_roc(\n",
    "    y_eval['seasonal_vaccine'], \n",
    "    preds_rf_seas[:, 1], \n",
    "    'seasonal_vaccine',\n",
    "    ax=ax[1]\n",
    ")\n",
    "fig.tight_layout()"
   ]
  },
  {
   "cell_type": "markdown",
   "metadata": {},
   "source": [
    "Let's look at the parameters used:"
   ]
  },
  {
   "cell_type": "code",
   "execution_count": 107,
   "metadata": {},
   "outputs": [
    {
     "name": "stdout",
     "output_type": "stream",
     "text": [
      "{'bootstrap': True,\n",
      " 'max_depth': 23,\n",
      " 'max_features': 'auto',\n",
      " 'min_samples_leaf': 4,\n",
      " 'min_samples_split': 5,\n",
      " 'n_estimators': 400}\n"
     ]
    }
   ],
   "source": [
    "pprint(rf_random.best_params_)"
   ]
  },
  {
   "cell_type": "markdown",
   "metadata": {},
   "source": [
    "So, from the randomized grid search process, the best results came with the following parameters:\n",
    "1. bootstrap: True\n",
    "2. max_depth: 23\n",
    "3. max_features: auto\n",
    "4. min_samples_leaf: 4\n",
    "5. min_samples_split: 5\n",
    "6. n_estimators: 400"
   ]
  },
  {
   "cell_type": "markdown",
   "metadata": {},
   "source": [
    "Now, let's get predictions for the test set"
   ]
  },
  {
   "cell_type": "code",
   "execution_count": 108,
   "metadata": {},
   "outputs": [],
   "source": [
    "def get_predictions_test_set(model_h1n1, model_seas, X_test):\n",
    "    \n",
    "    \"\"\"\n",
    "        Get predictions on test set\n",
    "        Args:\n",
    "            • model_h1n1: trained h1n1 vaccine model\n",
    "            • model_seas: trained seasonal vaccine model\n",
    "            • X_test: test set\n",
    "            \n",
    "        Output:\n",
    "            • preds: df with predictions\n",
    "    \"\"\"\n",
    "    \n",
    "    # get predictions on test set\n",
    "    preds_h1n1_test = model_h1n1.predict_proba(X_test)\n",
    "    preds_seas_test = model_seas.predict_proba(X_test)\n",
    "    \n",
    "    # get predictions as numpy array\n",
    "    y_preds = np.transpose(np.array([test['respondent_id'], preds_h1n1_test[:, 1], preds_seas_test[:, 1]]))\n",
    "    \n",
    "    # turn into pandas df\n",
    "    y_preds = pd.DataFrame(y_preds, columns = ['respondent_id', 'h1n1_vaccine', 'seasonal_vaccine'])\n",
    "    \n",
    "    # change respondent IDs to ints\n",
    "    y_preds['respondent_id'] = y_preds['respondent_id'].astype('int')\n",
    "    \n",
    "    # return predictions\n",
    "    return y_preds"
   ]
  },
  {
   "cell_type": "code",
   "execution_count": 109,
   "metadata": {},
   "outputs": [],
   "source": [
    "# get predictions\n",
    "y_preds = get_predictions_test_set(rf_random, rf_random_seas, imputed_test)"
   ]
  },
  {
   "cell_type": "code",
   "execution_count": 111,
   "metadata": {},
   "outputs": [],
   "source": [
    "# export predictions\n",
    "y_preds.to_csv('submissions/submission_3.csv')"
   ]
  },
  {
   "cell_type": "markdown",
   "metadata": {},
   "source": [
    "Using randomized search gives us a better idea of the range that we should consider for our parameters. We can make our search more focused by using grid search and cross-validation, which will give us a more exhaustive/brute-force based solution"
   ]
  },
  {
   "cell_type": "code",
   "execution_count": null,
   "metadata": {},
   "outputs": [],
   "source": []
  },
  {
   "cell_type": "markdown",
   "metadata": {},
   "source": [
    "### Neural Network"
   ]
  },
  {
   "cell_type": "code",
   "execution_count": null,
   "metadata": {},
   "outputs": [],
   "source": []
  }
 ],
 "metadata": {
  "kernelspec": {
   "display_name": "Python 3",
   "language": "python",
   "name": "python3"
  },
  "language_info": {
   "codemirror_mode": {
    "name": "ipython",
    "version": 3
   },
   "file_extension": ".py",
   "mimetype": "text/x-python",
   "name": "python",
   "nbconvert_exporter": "python",
   "pygments_lexer": "ipython3",
   "version": "3.7.2"
  }
 },
 "nbformat": 4,
 "nbformat_minor": 4
}
